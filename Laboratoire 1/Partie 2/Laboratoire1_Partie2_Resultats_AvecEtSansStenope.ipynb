{
 "cells": [
  {
   "cell_type": "markdown",
   "metadata": {},
   "source": [
    "#  Partie 2- Laboratoire 1"
   ]
  },
  {
   "cell_type": "markdown",
   "metadata": {},
   "source": [
    "### Importation des librairies importantes"
   ]
  },
  {
   "cell_type": "code",
   "execution_count": 51,
   "metadata": {},
   "outputs": [],
   "source": [
    "import numpy as np\n",
    "import matplotlib.pyplot as plt\n",
    "from scipy.optimize import curve_fit\n",
    "import math"
   ]
  },
  {
   "cell_type": "markdown",
   "metadata": {},
   "source": [
    "### On définit quantités utilisées plus tard"
   ]
  },
  {
   "cell_type": "code",
   "execution_count": 35,
   "metadata": {},
   "outputs": [],
   "source": [
    "'''\n",
    "    err_lect_P: incertitude sur la lecture des puissances [W]\n",
    "    err_lect_z: incertitude sur la lecture des décalages en z [m]\n",
    "'''\n",
    "err_lect_P = 0.01e-6 \n",
    "inc_lect_z = 10e-6"
   ]
  },
  {
   "cell_type": "markdown",
   "metadata": {},
   "source": [
    "## 1. Résultats des mesures de puissance avec et sans sténopé"
   ]
  },
  {
   "cell_type": "markdown",
   "metadata": {},
   "source": [
    "### 1.1 Mesures avec sténopé"
   ]
  },
  {
   "cell_type": "markdown",
   "metadata": {},
   "source": [
    "1.1.1 Calculs de la puissance moyenne et des incertitudes"
   ]
  },
  {
   "cell_type": "code",
   "execution_count": 1,
   "metadata": {},
   "outputs": [
    {
     "ename": "NameError",
     "evalue": "name 'np' is not defined",
     "output_type": "error",
     "traceback": [
      "\u001b[0;31m---------------------------------------------------------------------------\u001b[0m",
      "\u001b[0;31mNameError\u001b[0m                                 Traceback (most recent call last)",
      "\u001b[1;32m/home/nic-molesky_lab/A2022/Optique moderne/Github optique moderne/Laboratoire 1/Partie 2/Laboratoire1_Partie2_Resultats_AvecEtSansStenope.ipynb Cell 9\u001b[0m in \u001b[0;36m<cell line: 9>\u001b[0;34m()\u001b[0m\n\u001b[1;32m      <a href='vscode-notebook-cell:/home/nic-molesky_lab/A2022/Optique%20moderne/Github%20optique%20moderne/Laboratoire%201/Partie%202/Laboratoire1_Partie2_Resultats_AvecEtSansStenope.ipynb#X11sZmlsZQ%3D%3D?line=0'>1</a>\u001b[0m \u001b[39m'''\u001b[39;00m\n\u001b[1;32m      <a href='vscode-notebook-cell:/home/nic-molesky_lab/A2022/Optique%20moderne/Github%20optique%20moderne/Laboratoire%201/Partie%202/Laboratoire1_Partie2_Resultats_AvecEtSansStenope.ipynb#X11sZmlsZQ%3D%3D?line=1'>2</a>\u001b[0m \u001b[39m    as: avec sténopé\u001b[39;00m\n\u001b[1;32m      <a href='vscode-notebook-cell:/home/nic-molesky_lab/A2022/Optique%20moderne/Github%20optique%20moderne/Laboratoire%201/Partie%202/Laboratoire1_Partie2_Resultats_AvecEtSansStenope.ipynb#X11sZmlsZQ%3D%3D?line=2'>3</a>\u001b[0m \u001b[39m    decalage_as: position en z du troisième miroir [m]\u001b[39;00m\n\u001b[0;32m   (...)\u001b[0m\n\u001b[1;32m      <a href='vscode-notebook-cell:/home/nic-molesky_lab/A2022/Optique%20moderne/Github%20optique%20moderne/Laboratoire%201/Partie%202/Laboratoire1_Partie2_Resultats_AvecEtSansStenope.ipynb#X11sZmlsZQ%3D%3D?line=6'>7</a>\u001b[0m \u001b[39m    inc_tot_as_P: incertitude totale sur la puissance pour les mesures avec sténopé [W]\u001b[39;00m\n\u001b[1;32m      <a href='vscode-notebook-cell:/home/nic-molesky_lab/A2022/Optique%20moderne/Github%20optique%20moderne/Laboratoire%201/Partie%202/Laboratoire1_Partie2_Resultats_AvecEtSansStenope.ipynb#X11sZmlsZQ%3D%3D?line=7'>8</a>\u001b[0m \u001b[39m'''\u001b[39;00m\n\u001b[0;32m----> <a href='vscode-notebook-cell:/home/nic-molesky_lab/A2022/Optique%20moderne/Github%20optique%20moderne/Laboratoire%201/Partie%202/Laboratoire1_Partie2_Resultats_AvecEtSansStenope.ipynb#X11sZmlsZQ%3D%3D?line=8'>9</a>\u001b[0m decalage_as \u001b[39m=\u001b[39m np\u001b[39m.\u001b[39msort((\u001b[39m1e-3\u001b[39m)\u001b[39m*\u001b[39mnp\u001b[39m.\u001b[39marray([\u001b[39m12.92\u001b[39m, \u001b[39m12.86\u001b[39m, \u001b[39m12.81\u001b[39m, \u001b[39m12.77\u001b[39m, \u001b[39m12.72\u001b[39m, \u001b[39m12.66\u001b[39m, \u001b[39m12.56\u001b[39m, \u001b[39m12.46\u001b[39m, \u001b[39m12.28\u001b[39m, \u001b[39m11.60\u001b[39m, \u001b[39m13.09\u001b[39m, \u001b[39m13.21\u001b[39m, \u001b[39m13.27\u001b[39m, \u001b[39m13.30\u001b[39m, \u001b[39m13.39\u001b[39m, \u001b[39m13.44\u001b[39m, \u001b[39m13.53\u001b[39m, \u001b[39m13.70\u001b[39m, \u001b[39m14.08\u001b[39m, \u001b[39m15.23\u001b[39m]))\n\u001b[1;32m     <a href='vscode-notebook-cell:/home/nic-molesky_lab/A2022/Optique%20moderne/Github%20optique%20moderne/Laboratoire%201/Partie%202/Laboratoire1_Partie2_Resultats_AvecEtSansStenope.ipynb#X11sZmlsZQ%3D%3D?line=9'>10</a>\u001b[0m P_as_min \u001b[39m=\u001b[39m (\u001b[39m1e-6\u001b[39m)\u001b[39m*\u001b[39mnp\u001b[39m.\u001b[39marray([\u001b[39m20\u001b[39m, \u001b[39m60\u001b[39m, \u001b[39m90\u001b[39m, \u001b[39m150\u001b[39m, \u001b[39m195\u001b[39m, \u001b[39m245\u001b[39m, \u001b[39m290\u001b[39m, \u001b[39m320\u001b[39m, \u001b[39m370\u001b[39m, \u001b[39m410\u001b[39m, \u001b[39m430\u001b[39m, \u001b[39m350\u001b[39m, \u001b[39m300\u001b[39m, \u001b[39m270\u001b[39m, \u001b[39m210\u001b[39m, \u001b[39m170\u001b[39m, \u001b[39m140\u001b[39m, \u001b[39m90\u001b[39m, \u001b[39m40\u001b[39m, \u001b[39m9\u001b[39m])\n\u001b[1;32m     <a href='vscode-notebook-cell:/home/nic-molesky_lab/A2022/Optique%20moderne/Github%20optique%20moderne/Laboratoire%201/Partie%202/Laboratoire1_Partie2_Resultats_AvecEtSansStenope.ipynb#X11sZmlsZQ%3D%3D?line=10'>11</a>\u001b[0m P_as_max \u001b[39m=\u001b[39m (\u001b[39m1e-6\u001b[39m)\u001b[39m*\u001b[39mnp\u001b[39m.\u001b[39marray([\u001b[39m30\u001b[39m, \u001b[39m90\u001b[39m, \u001b[39m120\u001b[39m, \u001b[39m170\u001b[39m, \u001b[39m215\u001b[39m, \u001b[39m255\u001b[39m, \u001b[39m300\u001b[39m, \u001b[39m350\u001b[39m, \u001b[39m400\u001b[39m, \u001b[39m460\u001b[39m, \u001b[39m480\u001b[39m, \u001b[39m370\u001b[39m, \u001b[39m330\u001b[39m, \u001b[39m300\u001b[39m, \u001b[39m240\u001b[39m, \u001b[39m210\u001b[39m, \u001b[39m160\u001b[39m, \u001b[39m100\u001b[39m, \u001b[39m50\u001b[39m, \u001b[39m11\u001b[39m])\n",
      "\u001b[0;31mNameError\u001b[0m: name 'np' is not defined"
     ]
    }
   ],
   "source": [
    "'''\n",
    "    as: avec sténopé\n",
    "    decalage_as: position en z du troisième miroir [m]\n",
    "    mesure_as_min: puissance minimale mesurée dans un temps de mesure de 10 secondes [W]\n",
    "    mesure_as_max: puissance maximale mesurée dans un temps de mesure de 10 secondes [W]\n",
    "    moy_P_ss: puissance moyenne mesurée dans un temps de mesure de 10 secondes [W]\n",
    "    inc_tot_as_P: incertitude totale sur la puissance pour les mesures avec sténopé [W]\n",
    "'''\n",
    "decalage_as = np.sort((1e-3)*np.array([12.92, 12.86, 12.81, 12.77, 12.72, 12.66, 12.56, 12.46, 12.28, 11.60, 13.09, 13.21, 13.27, 13.30, 13.39, 13.44, 13.53, 13.70, 14.08, 15.23]))\n",
    "P_as_min = (1e-6)*np.array([20, 60, 90, 150, 195, 245, 290, 320, 370, 410, 430, 350, 300, 270, 210, 170, 140, 90, 40, 9])\n",
    "P_as_max = (1e-6)*np.array([30, 90, 120, 170, 215, 255, 300, 350, 400, 460, 480, 370, 330, 300, 240, 210, 160, 100, 50, 11])\n",
    "moy_P_as = (np.array(P_as_min) + np.array(P_as_max)) / 2.0\n",
    "inc_exp_as = np.abs(np.subtract(P_as_max, P_as_min))/2\n",
    "\n",
    "# calcul des incertitudes sur la puissance\n",
    "inc_tot_as_P = np.empty(len(inc_exp_as), dtype=object) \n",
    "for i in range(len(inc_exp_as)):\n",
    "    inc_tot_as_P[i] = np.sqrt(inc_exp_as[i]**2+err_lect_P**2)\n"
   ]
  },
  {
   "cell_type": "markdown",
   "metadata": {},
   "source": [
    "1.1.2 Graphique des résultats\n",
    "\n",
    "Avec un fit gaussien sur les données. Le fit est décrit par: $P(z) = \\frac{1}{\\sigma \\sqrt{2\\pi}} \\exp{\\{-(z-\\mu)^2/(2\\sigma^2)}\\} $, où $\\sigma$ est l'écart-type et $\\mu$ est la moyenne des décalages mesurées."
   ]
  },
  {
   "cell_type": "code",
   "execution_count": 55,
   "metadata": {},
   "outputs": [
    {
     "name": "stdout",
     "output_type": "stream",
     "text": [
      "FWHM_as  0.001711654530483915 \n",
      "\n"
     ]
    },
    {
     "data": {
      "text/plain": [
       "[<matplotlib.lines.Line2D at 0x11a40b950>]"
      ]
     },
     "execution_count": 55,
     "metadata": {},
     "output_type": "execute_result"
    },
    {
     "data": {
      "image/png": "[encoded data removed]",
      "text/plain": [
       "<Figure size 432x288 with 1 Axes>"
      ]
     },
     "metadata": {
      "needs_background": "light"
     },
     "output_type": "display_data"
    }
   ],
   "source": [
    "# calcul de l'écart-type et de la moyenne des décalages\n",
    "avg_dec_as = sum(decalage_as)/len(decalage_as) \n",
    "std_dec_as = np.std(decalage_as)\n",
    "\n",
    "# calcul du FWHM pour le cas avec sténopé\n",
    "FWHM_as = 2*np.sqrt(2*math.log(2))*std_dec_as\n",
    "print(\"FWHM_as \", FWHM_as, \"\\n\")\n",
    "\n",
    "# graphique\n",
    "plt.scatter(decalage_as, moy_P_as)\n",
    "plt.xlabel(\"Décalage en z (m)\")\n",
    "plt.ylabel(\"Puissance moyenne avec sténopé (W)\")\n",
    "plt.errorbar(decalage_as, moy_P_as, xerr = inc_lect_z, yerr = inc_tot_as_P, fmt='o', ecolor='g')\n",
    "# les barres semblent être vraiment petites\n",
    "\n",
    "# fit gaussien\n",
    "def func(z, avg, std):\n",
    "    return  (1/(std*np.sqrt(2*np.pi))) * np.exp(-(z-avg)**2 / (2*std**2)) \n",
    "popt, pcov = curve_fit(func, decalage_as, moy_P_as)\n",
    "plt.plot(decalage_as, func(decalage_as, *popt))"
   ]
  },
  {
   "cell_type": "markdown",
   "metadata": {},
   "source": [
    "### 1.2 Mesures sans sténopé"
   ]
  },
  {
   "cell_type": "markdown",
   "metadata": {},
   "source": [
    "1.2.1 Calcul des incertitudes\n",
    "\n"
   ]
  },
  {
   "cell_type": "code",
   "execution_count": 38,
   "metadata": {},
   "outputs": [],
   "source": [
    "'''\n",
    "    ss: sans sténopé\n",
    "    decalage_ss: position en z du troisième miroir [m]\n",
    "    P_ss_min: puissance minimale mesurée dans un temps de mesure de 10 secondes [W]\n",
    "    P_ss_max: puissance maximale mesurée dans un temps de mesure de 10 secondes [W]\n",
    "    moy_P_ss: puissance moyenne mesurée dans un temps de mesure de 10 secondes [W]\n",
    "    inc_tot_ss_P: incertitude totale sur la puissance pour les mesures sans sténopé [W]\n",
    "'''\n",
    "\n",
    "decalage_ss = np.sort((1e-3)*np.array([11.0, 10.50, 10.0, 9.50, 9.0, 8.50, 8.0, 7.5, 7.0, 6.5, 12.0, 12.5, 13.0, 13.5, 14.0, 14.5, 15.0, 15.5, 16.0, 16.5]))\n",
    "P_ss_min = (1e-6)*np.array([639, 640, 642, 643, 646, 645, 647, 649, 652, 657, 663, 650, 630, 650, 646, 650, 649, 644, 641, 638])\n",
    "P_ss_max = (1e-6)*np.array([641, 642, 644, 645, 646, 647, 649, 651, 656, 663, 665, 656, 640, 652, 647, 652, 649, 644, 641, 638])\n",
    "moy_P_ss = (np.array(P_ss_min) + np.array(P_ss_max)) / 2.0\n",
    "\n",
    "inc_exp_ss = np.abs(np.subtract(P_ss_max, P_ss_min))\n",
    "\n",
    "# calcul des incertitudes sur la puissance\n",
    "inc_tot_ss_P = np.empty(len(inc_exp_ss), dtype=object) \n",
    "for i in range(len(inc_exp_ss)):\n",
    "    inc_tot_ss_P[i] = np.sqrt(inc_exp_ss[i]**2+err_lect_P**2)"
   ]
  },
  {
   "cell_type": "markdown",
   "metadata": {},
   "source": [
    "2.1.2 Graphique des résultats\n",
    "\n",
    "Avec un fit gaussien sur les données. Le fit est décrit par: $P(z) = \\frac{1}{\\sigma \\sqrt{2\\pi}} \\exp{\\{-(x-\\mu)^2/(2\\sigma^2)}\\} $, où $\\sigma$ est l'écart-type et $\\mu$ est la moyenne des puissances mesurées."
   ]
  },
  {
   "cell_type": "code",
   "execution_count": 57,
   "metadata": {},
   "outputs": [
    {
     "name": "stdout",
     "output_type": "stream",
     "text": [
      "FWHM_ss  0.007305637063467894 \n",
      "\n"
     ]
    },
    {
     "data": {
      "text/plain": [
       "[<matplotlib.lines.Line2D at 0x11abf0d10>]"
      ]
     },
     "execution_count": 57,
     "metadata": {},
     "output_type": "execute_result"
    },
    {
     "data": {
      "image/png": "[encoded data removed]",
      "text/plain": [
       "<Figure size 432x288 with 1 Axes>"
      ]
     },
     "metadata": {
      "needs_background": "light"
     },
     "output_type": "display_data"
    }
   ],
   "source": [
    "# calcul de l'écart-type et de la moyenne des décalages\n",
    "Pavg_ss = sum(decalage_ss)/len(decalage_ss) \n",
    "std_dec_ss = np.std(decalage_ss)\n",
    "\n",
    "# calcul du FWHM pour le cas sans sténopé\n",
    "FWHM_ss = 2*np.sqrt(2*math.log(2))*std_dec_ss\n",
    "print(\"FWHM_ss \", FWHM_ss, \"\\n\")\n",
    "\n",
    "# graphique \n",
    "plt.scatter(decalage_ss, moy_P_ss)\n",
    "plt.xlabel(\"Décalage en z (m)\")\n",
    "plt.ylabel(\"Puissance moyenne sans sténopé (W)\")\n",
    "plt.errorbar(decalage_ss, moy_P_ss, xerr = inc_lect_z, yerr = inc_tot_ss_P, fmt='o', ecolor='g')\n",
    "# pas de barres d'erreur en x... mystère\n",
    "\n",
    "# fit gaussien\n",
    "def func(z, avg, std):\n",
    "    return  (1/(std*np.sqrt(2*np.pi))) * np.exp(-(z-avg)**2 / (2*std**2)) \n",
    "popt, pcov = curve_fit(func, decalage_ss, moy_P_ss)\n",
    "\n",
    "# plt.plot(decalage_ss, func(decalage_ss, *popt))\n",
    "plt.plot(decalage_ss, func(decalage_ss, popt[0], popt[1]))"
   ]
  },
  {
   "cell_type": "code",
   "execution_count": null,
   "metadata": {},
   "outputs": [],
   "source": []
  }
 ],
 "metadata": {
  "kernelspec": {
   "display_name": "Python 3",
   "language": "python",
   "name": "python3"
  },
  "language_info": {
   "codemirror_mode": {
    "name": "ipython",
    "version": 3
   },
   "file_extension": ".py",
   "mimetype": "text/x-python",
   "name": "python",
   "nbconvert_exporter": "python",
   "pygments_lexer": "ipython3",
   "version": "3.9.12"
  },
  "vscode": {
   "interpreter": {
    "hash": "3589135b0d096a825f7677bcb4cc0e24069d2fa761ee480062bc4c5e27da94f7"
   }
  }
 },
 "nbformat": 4,
 "nbformat_minor": 2
}
