{
 "cells": [
  {
   "cell_type": "code",
   "execution_count": 1,
   "id": "useful-allergy",
   "metadata": {},
   "outputs": [],
   "source": [
    "import numpy as np\n",
    "# import matplotlib.pyplot as plt\n",
    "import sympy as sp"
   ]
  },
  {
   "cell_type": "markdown",
   "id": "micro-strategy",
   "metadata": {},
   "source": [
    "# Ray transfer matrix"
   ]
  },
  {
   "cell_type": "code",
   "execution_count": 2,
   "id": "nutritional-gazette",
   "metadata": {},
   "outputs": [],
   "source": [
    "def Mt(d):\n",
    "    '''Translation'''\n",
    "    M = np.array([[1, d],\n",
    "                  [0, 1]])\n",
    "    return M\n",
    "\n",
    "def Ml(f):\n",
    "    '''Thin Lens'''\n",
    "    # Using sp.Rational helps by keeping fraction as fractions for math\n",
    "    # instead of replacing everything by floats... this is NOT necessary\n",
    "    M = np.array([[1, 0],\n",
    "                  [-sp.Rational('1/{}'.format(f)), 1]])\n",
    "    return M\n"
   ]
  },
  {
   "cell_type": "markdown",
   "id": "ecological-portland",
   "metadata": {},
   "source": [
    "## Example 2"
   ]
  },
  {
   "cell_type": "code",
   "execution_count": 3,
   "id": "labeled-notification",
   "metadata": {},
   "outputs": [
    {
     "name": "stdout",
     "output_type": "stream",
     "text": [
      "[[-4*x/75 - 2 3*x/2 + 75]\n",
      " [-4/75 3/2]]\n",
      "A(x) = -4*x/75 - 2 = 0\n",
      "x = -75/2 ~ -37.5\n"
     ]
    }
   ],
   "source": [
    "# Defining system parameters\n",
    "f1 = 25\n",
    "f2 = -150\n",
    "d = 75\n",
    "x = sp.symbols('x')\n",
    "\n",
    "# Computing system's matrix\n",
    "M = Mt(x)@Ml(f2)@Mt(d)@Ml(f1)\n",
    "print(M)\n",
    "\n",
    "# Solving A = 0\n",
    "A = M[0, 0]\n",
    "x_sol = sp.solve(A)[0]\n",
    "print('A(x) = {} = 0'.format(A))\n",
    "print('x = {} ~ {}'.format(x_sol, float(x_sol)))"
   ]
  },
  {
   "cell_type": "markdown",
   "id": "threaded-sociology",
   "metadata": {},
   "source": [
    "## Example 3"
   ]
  },
  {
   "cell_type": "code",
   "execution_count": 4,
   "id": "alternative-driver",
   "metadata": {},
   "outputs": [
    {
     "name": "stdout",
     "output_type": "stream",
     "text": [
      "[[-345/49 1270/7]\n",
      " [-19/490 6/7]]\n",
      "[[-345/49 1270/7 - 345*x/49]\n",
      " [-19/490 6/7 - 19*x/490]]\n",
      "x = 1778/69 ~ 25.77\n",
      "g = A = -345/49 ~ -7.04\n"
     ]
    }
   ],
   "source": [
    "# Defining system parameters\n",
    "f1 = 35\n",
    "f2 = 70\n",
    "d = 10\n",
    "x = sp.symbols('x')\n",
    "\n",
    "# Computing system's matrix\n",
    "M = Mt(200)@Ml(70)@Mt(10)@Ml(35)\n",
    "print(M)\n",
    "M_tot = M@Mt(x)\n",
    "print(M_tot)\n",
    "\n",
    "# Solving B=0\n",
    "B = M_tot[0, 1]\n",
    "x_sol = sp.solve(B)[0]\n",
    "print('x = {} ~ {:.2f}'.format(x_sol, float(x_sol)))\n",
    "\n",
    "# Getting magnification from system's matrix\n",
    "print('g = A = {} ~ {:.2f}'.format(M_tot[0,0], float(M_tot[0,0])))"
   ]
  },
  {
   "cell_type": "markdown",
   "id": "exterior-crisis",
   "metadata": {},
   "source": [
    "# TD"
   ]
  },
  {
   "cell_type": "markdown",
   "id": "progressive-torture",
   "metadata": {},
   "source": [
    "## Problem 2"
   ]
  },
  {
   "cell_type": "markdown",
   "id": "incorporate-louis",
   "metadata": {},
   "source": [
    "### a)"
   ]
  },
  {
   "cell_type": "code",
   "execution_count": 5,
   "id": "protecting-jordan",
   "metadata": {},
   "outputs": [
    {
     "data": {
      "text/latex": [
       "$\\displaystyle \\left[\\begin{matrix}\\frac{n - 4}{n} & - \\frac{4 r}{n}\\\\\\frac{2 \\left(n - 2\\right)}{n r} & \\frac{n - 4}{n}\\end{matrix}\\right]$"
      ],
      "text/plain": [
       "[[(n - 4)/n, -4*r/n], [2*(n - 2)/(n*r), (n - 4)/n]]"
      ]
     },
     "execution_count": 5,
     "metadata": {},
     "output_type": "execute_result"
    }
   ],
   "source": [
    "n = sp.symbols('n')\n",
    "r = sp.symbols('r')\n",
    "\n",
    "M1 = np.array([[1, 0], \n",
    "               [(1-n)/n/r, 1/n]])\n",
    "M2 = np.array([[1, 2*r], \n",
    "               [0, 1]])\n",
    "M3 = np.array([[1, 0], \n",
    "               [-2/r, 1]])\n",
    "M4 = M2.copy()\n",
    "M5 = np.array([[1, 0], \n",
    "               [(n-1)/-r, n]])\n",
    "\n",
    "Mtot = M5@M4@M3@M2@M1\n",
    "sp.simplify(Mtot)"
   ]
  },
  {
   "cell_type": "markdown",
   "id": "c69273af-300a-476b-9e29-a33552b24c06",
   "metadata": {},
   "source": [
    "### b)"
   ]
  },
  {
   "cell_type": "code",
   "execution_count": 7,
   "id": "4cdd9e35-8f84-46d3-b545-000dce2b95e6",
   "metadata": {},
   "outputs": [
    {
     "data": {
      "text/latex": [
       "$\\displaystyle \\left[\\begin{matrix}-1 & 0\\\\\\frac{2 \\left(n - 2\\right)}{n r} & -1\\end{matrix}\\right]$"
      ],
      "text/plain": [
       "[[-1, 0], [2*(n - 2)/(n*r), -1]]"
      ]
     },
     "execution_count": 7,
     "metadata": {},
     "output_type": "execute_result"
    }
   ],
   "source": [
    "Mt = np.array([[1, -r], [0, 1]])\n",
    "Mtot_b = Mt@Mtot@Mt\n",
    "sp.simplify(Mtot_b)"
   ]
  }
 ],
 "metadata": {
  "kernelspec": {
   "display_name": "phs2223",
   "language": "python",
   "name": "phs2223"
  },
  "language_info": {
   "codemirror_mode": {
    "name": "ipython",
    "version": 3
   },
   "file_extension": ".py",
   "mimetype": "text/x-python",
   "name": "python",
   "nbconvert_exporter": "python",
   "pygments_lexer": "ipython3",
   "version": "3.8.12"
  }
 },
 "nbformat": 4,
 "nbformat_minor": 5
}
