{
 "cells": [
  {
   "cell_type": "code",
   "execution_count": 1,
   "id": "67abffde-b2de-4036-86e7-24752c1482ff",
   "metadata": {},
   "outputs": [],
   "source": [
    "import numpy as np\n",
    "import matplotlib.pyplot as plt\n",
    "from mpl_toolkits.axes_grid1 import make_axes_locatable\n",
    "%matplotlib widget\n",
    "\n",
    "from ipywidgets import interact"
   ]
  },
  {
   "cell_type": "markdown",
   "id": "2467d019-d327-4ed6-96d9-e577f3c716f4",
   "metadata": {},
   "source": [
    "# Waves Fundamental\n",
    "\n",
    "This is an interactive notebook to visualize waves and interference properties. I have collapsed the codes that generate the figures, as that is not the focus here. Make sure you restart the kernel and run all cells to draw everything properly (the little double-arrow).\n",
    "\n",
    "![](documentation/screenshot.png)"
   ]
  },
  {
   "cell_type": "markdown",
   "id": "0007e4de-d052-475a-9b3a-c85bbf8fdd1d",
   "metadata": {},
   "source": [
    "## Single propagating wave\n",
    "\n",
    "Below is the graph of a single EM-wave $|{\\vec{E}(r, t)}| = E(r, t)$ defined as\n",
    "\n",
    "$$\n",
    "|\\vec{E}(r, t)| = Re\\{\\exp{i(\\vec{k}\\cdot\\vec{r}-\\omega t)}\\}\n",
    "$$"
   ]
  },
  {
   "cell_type": "code",
   "execution_count": 2,
   "id": "f3648e8a-0f82-47d2-bf1b-90726f01d9d8",
   "metadata": {
    "jupyter": {
     "source_hidden": true
    },
    "tags": []
   },
   "outputs": [
    {
     "data": {
      "application/vnd.jupyter.widget-view+json": {
       "model_id": "5eb955ce61f4453893bb4793c6973ecf",
       "version_major": 2,
       "version_minor": 0
      },
      "text/plain": [
       "Canvas(toolbar=Toolbar(toolitems=[('Home', 'Reset original view', 'home', 'home'), ('Back', 'Back to previous …"
      ]
     },
     "metadata": {},
     "output_type": "display_data"
    },
    {
     "data": {
      "application/vnd.jupyter.widget-view+json": {
       "model_id": "32799d9b287142f9b54ae29912c81066",
       "version_major": 2,
       "version_minor": 0
      },
      "text/plain": [
       "interactive(children=(FloatSlider(value=0.0, description='t', max=50.0, min=-50.0), Output()), _dom_classes=('…"
      ]
     },
     "metadata": {},
     "output_type": "display_data"
    }
   ],
   "source": [
    "# frequency and wavevector\n",
    "k = 1\n",
    "w = 1\n",
    "\n",
    "# Single wave\n",
    "E = lambda r, t : np.exp(1j*(k*r-w*t))\n",
    "\n",
    "# Create initial graph\n",
    "t = 0\n",
    "plt.figure(figsize=[10, 5], dpi=96)\n",
    "r = np.linspace(-100, 100, 1000)\n",
    "line = plt.plot(r, E(r, t).real)\n",
    "point = plt.plot(0, 1, 'o', color='tab:red')\n",
    "plt.xlabel('r')\n",
    "plt.ylabel('E')\n",
    "plt.tight_layout()\n",
    "    \n",
    "# update graph\n",
    "@interact(t=(-50, 50, 0.1))\n",
    "def update_graph(t):\n",
    "    point[0].set_xdata((w*(t))/k)\n",
    "    line[0].set_ydata(E(r, t))\n",
    "    plt.title('$t = {}$'.format(t))\n",
    "    plt.tight_layout()"
   ]
  },
  {
   "cell_type": "markdown",
   "id": "a0056a62-6d8c-41f2-bdee-065a127b663b",
   "metadata": {},
   "source": [
    "## Two propagating waves\n",
    "\n",
    "Below is a graph showing the resulting superposition of two EM-waves of slightly different frequency (and wavelengths),\n",
    "\n",
    "$$\n",
    "E_1(r, t) = Re\\{\\exp i((k+\\Delta k)r-(\\omega+\\Delta \\omega)t)\\}\n",
    "$$\n",
    "\n",
    "$$\n",
    "E_2(r, t) = Re\\{\\exp i((k-\\Delta k)r-(\\omega-\\Delta \\omega)t)\\}\n",
    "$$\n",
    "\n",
    "The resulting wave is\n",
    "\n",
    "$$\n",
    "E(r, t) = E_1+E_2 = Re\\{\\exp i((kr-\\omega t)\\}\\cos(\\Delta kr - \\Delta\\omega t)\n",
    "$$\n",
    "\n",
    "In other words, the resulting wave is a single frequency wave of frequency  travelling at the **phase velocity** $u_p$ multiplied by the envelope (here $\\cos(\\Delta kr - \\Delta\\omega t)$) travelling at the **group velocity** $u_g$.\n",
    "\n",
    "$$\n",
    "u_p = \\frac{\\omega}{k} = \\frac{2\\pi\\nu}{2\\pi/\\lambda} = \\lambda \\nu = c\n",
    "$$\n",
    "\n",
    "$$\n",
    "u_g = \\frac{\\Delta \\omega}{\\Delta k} \\rightarrow u_g = \\frac{d\\omega}{d\\nu}\n",
    "$$"
   ]
  },
  {
   "cell_type": "code",
   "execution_count": 3,
   "id": "4f55d6aa-8a15-48a1-a6ce-abc4dc10924f",
   "metadata": {
    "jupyter": {
     "source_hidden": true
    },
    "tags": []
   },
   "outputs": [
    {
     "data": {
      "application/vnd.jupyter.widget-view+json": {
       "model_id": "0bf741c3db834157a22ac01e9773e6f2",
       "version_major": 2,
       "version_minor": 0
      },
      "text/plain": [
       "Canvas(toolbar=Toolbar(toolitems=[('Home', 'Reset original view', 'home', 'home'), ('Back', 'Back to previous …"
      ]
     },
     "metadata": {},
     "output_type": "display_data"
    },
    {
     "data": {
      "application/vnd.jupyter.widget-view+json": {
       "model_id": "647ee004a2d643bbb0d3f0dd2b7f8deb",
       "version_major": 2,
       "version_minor": 0
      },
      "text/plain": [
       "interactive(children=(FloatSlider(value=0.05, description='dk', max=0.1, step=0.0001), FloatSlider(value=0.05,…"
      ]
     },
     "metadata": {},
     "output_type": "display_data"
    }
   ],
   "source": [
    "# Initial wave parameters\n",
    "k = 1\n",
    "dk = 0.1\n",
    "w = 1\n",
    "dw = 0.1\n",
    "t = 0\n",
    "r = np.linspace(-100, 100, 1000)\n",
    "\n",
    "# Initial fields\n",
    "E1 = np.exp(1j*((k+dk)*r - (w+dw)*t))\n",
    "E2 = np.exp(1j*((k-dk)*r - (w-dw)*t))\n",
    "\n",
    "# Creating figure and initial graph\n",
    "plt.figure(figsize=[10, 5], dpi=96)\n",
    "plt.subplot(2,1,1)\n",
    "line1 = plt.plot(r, E1.real, label='$E_1$')\n",
    "line2 = plt.plot(r, E2.real, label='$E_2$')\n",
    "plt.xlabel('$r$')\n",
    "plt.ylabel('E')\n",
    "plt.legend(loc=1)\n",
    "plt.subplot(2,1,2)\n",
    "line3 = plt.plot(r, (E1+E2).real, label='$E$', color='tab:green')\n",
    "line4 = plt.plot(r, 2*np.cos(dk*r-dw*t), label='$Envelope$', color='tab:red')\n",
    "point1 = plt.plot(0, 2, 'o', color='tab:green', alpha=0.75)\n",
    "point2 = plt.plot(0, 2, 'o', color='tab:red', alpha=0.75)\n",
    "plt.xlabel('$r$')\n",
    "plt.ylabel('E')\n",
    "plt.legend(loc=1)\n",
    "plt.tight_layout()\n",
    "    \n",
    "# update graph\n",
    "@interact(dk=(0,0.1,1e-4),\n",
    "          dw=(0,0.1,1e-4),\n",
    "          t=(-50, 50, 0.1))\n",
    "def update_graph(dk, dw, t):\n",
    "    # Updating fields\n",
    "    E1 = np.exp(1j*((k+dk)*r - (w+dw)*t))\n",
    "    E2 = np.exp(1j*((k-dk)*r - (w-dw)*t))\n",
    "    \n",
    "    # Updating plots\n",
    "    point1[0].set_xdata(w*t/k)\n",
    "    point1[0].set_ydata(2*np.cos(dk*w*t/k - dw*t))\n",
    "    point2[0].set_xdata(dw*t/dk)\n",
    "    line1[0].set_ydata(E1.real)\n",
    "    line2[0].set_ydata(E2.real)\n",
    "    line3[0].set_ydata((E1+E2).real)\n",
    "    line4[0].set_ydata(2*np.cos(dk*r-dw*t))"
   ]
  },
  {
   "cell_type": "markdown",
   "id": "7ed0bc06-9230-49e8-b3bf-93afa6e89d7f",
   "metadata": {},
   "source": [
    "# Wave interference\n",
    "\n",
    "Below is a numerical simulation of Young's classic two slit experiments. The leftmost graph shows the total electric field $E=E_1+E_2$, the centre graph shows the resulting light intensity $I=(E_1+E_2)\\cdot(E_1+E_2)^*$ and the rightmost graph show the intensity on a vertical plane. The sources for $E_1$ and $E_2$ and the vertical plane are illustrated in red, and their positions can be adjusted via the sliders. Finally, notice that, though the total electric field changes through time, the intensity $I(x,y)$ does not. It remains constant through time, resulting in an interference pattern and the apparition of interference fringes on the imaging plane as prescribed by theory;\n",
    "\n",
    "$$\n",
    "I(x, y) = (E_1+E_2)\\cdot(E_1+E_2)^*\n",
    "$$\n",
    "\n",
    "$$\n",
    "I(x, y) = I_1 + I_2 + 2\\sqrt{I_1I_2}\\cos(\\Delta \\varphi)\n",
    "$$\n",
    "\n",
    "Here,\n",
    "\n",
    "$$\n",
    "\\Delta \\varphi=k|r_1(x, y)-r_2(x, y)|\n",
    "$$\n",
    "\n",
    "and is independent of time since both sources share the same frequency $\\omega$."
   ]
  },
  {
   "cell_type": "code",
   "execution_count": 4,
   "id": "409432e2-8cf6-4c1b-82ca-a3fc6250d4c9",
   "metadata": {
    "jupyter": {
     "source_hidden": true
    },
    "tags": []
   },
   "outputs": [
    {
     "data": {
      "application/vnd.jupyter.widget-view+json": {
       "model_id": "12f11b29abd64cdab31cf94bface64ff",
       "version_major": 2,
       "version_minor": 0
      },
      "text/plain": [
       "Canvas(toolbar=Toolbar(toolitems=[('Home', 'Reset original view', 'home', 'home'), ('Back', 'Back to previous …"
      ]
     },
     "metadata": {},
     "output_type": "display_data"
    },
    {
     "data": {
      "application/vnd.jupyter.widget-view+json": {
       "model_id": "ca9a506b2ad94c869c6d722f8c628bf5",
       "version_major": 2,
       "version_minor": 0
      },
      "text/plain": [
       "interactive(children=(IntSlider(value=-25, description='x1', max=50, min=-50), IntSlider(value=25, description…"
      ]
     },
     "metadata": {},
     "output_type": "display_data"
    }
   ],
   "source": [
    "# Waves parameters\n",
    "k = 1\n",
    "w = 1\n",
    "\n",
    "# XY domain discretization\n",
    "mesh_density = 1001\n",
    "grid_line = np.linspace(-50, 50, mesh_density)\n",
    "XX, YY = np.meshgrid(grid_line, grid_line)\n",
    "\n",
    "# Initial Source distances\n",
    "x1, y1 = -25, 25\n",
    "x2, y2 = -25, -25\n",
    "r1 = np.sqrt((XX-x1)**2 + (YY-y1)**2)\n",
    "r2 = np.sqrt((XX-x2)**2 + (YY-y2)**2)\n",
    "plane_xpos = 40\n",
    "\n",
    "# Initial Em fields\n",
    "t = 0\n",
    "E1 = np.exp(1j*(k*r1-w*t))\n",
    "E2 = np.exp(1j*(k*r2-w*t))\n",
    "\n",
    "# Initial figure\n",
    "plt.figure(figsize=[15, 5], dpi=96)\n",
    "\n",
    "# E1+E2 subplot\n",
    "ax = plt.subplot(1,3,1)\n",
    "s11_plot = plt.plot(x1, y1, 'o', color='tab:red')\n",
    "s12_plot = plt.plot(x1, y1, 'o', color='tab:red')\n",
    "hmap1 = plt.imshow((E1+E2).real, extent=(-50, 50, -50, 50), origin='lower')\n",
    "plt.xlabel('x')\n",
    "plt.ylabel('y')\n",
    "plt.title('$E=E_1+E_2$')\n",
    "divider = make_axes_locatable(ax)\n",
    "cax = divider.append_axes(\"right\", size=\"2%\", pad=0.05)\n",
    "plt.colorbar(cax=cax)\n",
    "\n",
    "# 2d intensity subplot\n",
    "ax = plt.subplot(1,3,2)\n",
    "I = (E1+E2)*(E1+E2).conj()\n",
    "hmap2 = plt.imshow(I.real, extent=(-50, 50, -50, 50), origin='lower')\n",
    "s21_plot = plt.plot(x1, y1, 'o', color='tab:red')\n",
    "s22_plot = plt.plot(x1, y1, 'o', color='tab:red')\n",
    "plane_plot = plt.plot([plane_xpos, plane_xpos], [-50, 50], color='tab:red', linewidth=2)\n",
    "plt.xlabel('x')\n",
    "plt.ylabel('y')\n",
    "plt.title('$I(x, y)=(E_1+E_2)(E_1+E_2)^*$')\n",
    "divider = make_axes_locatable(ax)\n",
    "cax = divider.append_axes(\"right\", size=\"2%\", pad=0.05)\n",
    "plt.colorbar(cax=cax)\n",
    "\n",
    "# 1d intensity subplot\n",
    "plt.subplot(1,3,3)\n",
    "i_plane = XX==plane_xpos\n",
    "I_line = I[i_plane]\n",
    "Iline_plot = plt.plot(I_line.real)\n",
    "plt.xlabel('y')\n",
    "plt.ylabel('I(y)')\n",
    "plt.title('$I(x={}, y)$'.format(plane_xpos))\n",
    "plt.tight_layout()\n",
    "\n",
    "@interact(\n",
    "    x1=(-50, 50, 1),\n",
    "    y1=(-50, 50, 1),\n",
    "    x2=(-50, 50, 1),\n",
    "    y2=(-50, 50, 1),\n",
    "    plane_xpos=(-50, 50, 1),\n",
    "    t=(-10, 10, 0.1))\n",
    "def update_graph(x1=-25, y1=25, x2=-25, y2=-25, plane_xpos=40, t=0):\n",
    "    # Recompute r1 and r2\n",
    "    r1 = np.sqrt((XX-x1)**2 + (YY-y1)**2)\n",
    "    r2 = np.sqrt((XX-x2)**2 + (YY-y2)**2)\n",
    "    \n",
    "    # Updated fields\n",
    "    E1 = np.exp(1j*(k*r1-w*t))\n",
    "    E2 = np.exp(1j*(k*r2-w*t))\n",
    "    \n",
    "    # Update intensity\n",
    "    I = (E1+E2)*(E1+E2).conj()\n",
    "    i_plane = XX==plane_xpos\n",
    "    I_line = I[i_plane]\n",
    "    \n",
    "    # Update figure\n",
    "    hmap1.set_array((E1+E2).real)\n",
    "    hmap2.set_array(I.real)\n",
    "    plane_plot[0].set_xdata([plane_xpos, plane_xpos])\n",
    "    Iline_plot[0].set_ydata(I_line)\n",
    "    s11_plot[0].set_xdata(x1)\n",
    "    s11_plot[0].set_ydata(y1)\n",
    "    s21_plot[0].set_xdata(x1)\n",
    "    s21_plot[0].set_ydata(y1)\n",
    "    s12_plot[0].set_xdata(x2)\n",
    "    s12_plot[0].set_ydata(y2)\n",
    "    s22_plot[0].set_xdata(x2)\n",
    "    s22_plot[0].set_ydata(y2)\n",
    "    "
   ]
  },
  {
   "cell_type": "markdown",
   "id": "9a068334-efee-4bd8-9e5a-ca50abe9c498",
   "metadata": {},
   "source": [
    "# Coherence and correlation functions\n",
    "\n",
    "In the actual case of interference between two or more waves, the amplitudes and phases of each can slightly vary through time in a random fashion. It is therefore important to consider the irradiance *I* as the time average quantity\n",
    "\n",
    "$$\n",
    "I := <\\vec{E}\\cdot\\vec{E}^*>\n",
    "$$\n",
    "$$\n",
    "= <|E_1|^2 + |E_2|^2 +2Re(\\vec{E_1}\\cdot\\vec{E_2}^*)>\n",
    "$$\n",
    "\n",
    "with the time average defined as\n",
    "\n",
    "$$\n",
    "<f> := \\lim_{T\\rightarrow \\infty} \\frac{1}{T}\\int_0^T f(t)dt\n",
    "$$\n",
    "\n",
    "This leads us to an incredibly important concept in optics; the cross correlation function. Two fields ($E_1$ and $E_2$) have a *mutual coherence function*, also called a *cross correlation function* $\\Gamma_{12}(\\tau)$ defined as\n",
    "\n",
    "$$\n",
    "\\Gamma_{12}(\\tau) := <E_1(t)E_2^*(t+\\tau)>\n",
    "$$\n",
    "$$\n",
    "= \\lim_{T\\rightarrow \\infty} \\frac{1}{T}\\int_0^T E_1(t)E_2^*(t+\\tau)dt\n",
    "$$\n",
    "\n",
    "An attentive reader can notice how simillar this quantity is to a convolution product,\n",
    "\n",
    "$$\n",
    "\\text{convolution : }(f\\circledast g)(\\tau) := \\int_{-\\infty}^{\\infty}f(t)g(t-\\tau)dt\n",
    "$$\n",
    "\n",
    "$$\n",
    "\\text{correlation : }(f*g)(\\tau) := \\int_{-\\infty}^{\\infty}f(t)g^*(t+\\tau)dt\n",
    "$$\n",
    "\n",
    "Now, what does this mean? What does the quantity $\\Gamma_{12}(\\tau)$ (or the convolution product) actually measure? In short, they **both** are a measure of the space-time **overlap** of two different fields (or functions). If both are localized at the same space-time positions (aka overlapping), then their correlation is large. If they are fare apart in space-time (aka **not** overlapping), their correlation is small (or 0).\n",
    "\n",
    "**NOTE**\n",
    "\n",
    "One should be careful with the difference between the convolution and the correlation. For light waves electric fields, it often happens that $E(t) = E^*(-t)$ which can lead to confusion when using convolution instead of correlations to compute numerical quantities..."
   ]
  },
  {
   "cell_type": "code",
   "execution_count": 5,
   "id": "4a4a7919-da1c-403a-af19-2daa9b51d76f",
   "metadata": {
    "jupyter": {
     "source_hidden": true
    },
    "tags": []
   },
   "outputs": [
    {
     "data": {
      "application/vnd.jupyter.widget-view+json": {
       "model_id": "b8d812c1011d4d41a1a981803be68dce",
       "version_major": 2,
       "version_minor": 0
      },
      "text/plain": [
       "Canvas(toolbar=Toolbar(toolitems=[('Home', 'Reset original view', 'home', 'home'), ('Back', 'Back to previous …"
      ]
     },
     "metadata": {},
     "output_type": "display_data"
    },
    {
     "data": {
      "application/vnd.jupyter.widget-view+json": {
       "model_id": "c32d178281b249048a294e2edc808144",
       "version_major": 2,
       "version_minor": 0
      },
      "text/plain": [
       "interactive(children=(FloatSlider(value=0.0, description='tau', max=50.0, min=-50.0), Output()), _dom_classes=…"
      ]
     },
     "metadata": {},
     "output_type": "display_data"
    }
   ],
   "source": [
    "from scipy.signal import correlate\n",
    "\n",
    "# Wave parameters\n",
    "w = 1\n",
    "tau = 0\n",
    "t = np.linspace(-50, 50, 1001)\n",
    "dt = t[1]-t[0]\n",
    "\n",
    "# Initial waves\n",
    "envelope = np.exp(-((t-tau)/10)**2)\n",
    "E1 = np.exp(1j*w*t)*envelope\n",
    "E2 = np.exp(1j*w*(t-tau))*envelope\n",
    "\n",
    "# Initial convolution\n",
    "gamma12 = correlate(E1, E2, mode='same')*dt\n",
    "\n",
    "# Create figure\n",
    "plt.figure(figsize=[10, 5], dpi=96)\n",
    "\n",
    "# Fields subplot\n",
    "plt.subplot(1, 2, 1)\n",
    "E1_plot = plt.plot(t, E1.real, label='$E_1$')\n",
    "E2_plot = plt.plot(t, E2.real, label='$E_2$')\n",
    "tau_plot = plt.plot([0, -tau], [1,1], label='$\\\\tau$')\n",
    "I_plot = plt.plot(t, (E1*E2.conj()).real, color='tab:red', label='$E_1(t)E_2^*(t+\\\\tau)$')\n",
    "plt.legend(loc='upper right')\n",
    "plt.xlabel('$t$')\n",
    "plt.ylabel('$E(t)$')\n",
    "\n",
    "# Convolution subplot\n",
    "plt.subplot(1, 2, 2)\n",
    "plt.plot(t, gamma12.real, label='$(f*g)(\\\\tau)$')\n",
    "conv_point = plt.plot(tau, (E1*E2.conj()).real.sum()*dt, 'o',\n",
    "                      color='tab:red', label='$\\int E_1(t)E_2^*(t+\\\\tau)dt$')\n",
    "plt.legend(loc='upper right')\n",
    "plt.xlabel('$\\\\tau$')\n",
    "plt.ylabel('$(f*g)(\\\\tau)$')\n",
    "plt.tight_layout()\n",
    "\n",
    "\n",
    "@interact(\n",
    "    tau = (-50, 50, 0.1)\n",
    ")\n",
    "def update_graph(tau):    \n",
    "    # Updated fields\n",
    "    envelope = np.exp(-((t-tau)/10)**2)\n",
    "    E2 = np.exp(1j*w*(t-tau))*envelope\n",
    "    \n",
    "    # Update Figure\n",
    "    E2_plot[0].set_ydata(E2.real)\n",
    "    tau_plot[0].set_xdata([0, tau])\n",
    "    tau_plot[0].set_label('$\\\\tau = {}$'.format(tau))\n",
    "    I_plot[0].set_ydata((E1*E2.conj()).real)\n",
    "    conv_point[0].set_xdata(tau)\n",
    "    conv_point[0].set_ydata((E1*E2.conj()).real.sum()*dt)\n",
    "    "
   ]
  }
 ],
 "metadata": {
  "kernelspec": {
   "display_name": "phs2223",
   "language": "python",
   "name": "phs2223"
  },
  "language_info": {
   "codemirror_mode": {
    "name": "ipython",
    "version": 3
   },
   "file_extension": ".py",
   "mimetype": "text/x-python",
   "name": "python",
   "nbconvert_exporter": "python",
   "pygments_lexer": "ipython3",
   "version": "3.8.12"
  }
 },
 "nbformat": 4,
 "nbformat_minor": 5
}
