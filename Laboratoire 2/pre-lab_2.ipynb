{
 "cells": [
  {
   "cell_type": "code",
   "execution_count": 2,
   "id": "2b7e8b95-36c6-4468-a1e4-6e4de18af9eb",
   "metadata": {},
   "outputs": [],
   "source": [
    "# on importe les librairies importantes\n",
    "import numpy as np\n",
    "import matplotlib.pyplot as plt\n",
    "import sympy as sp"
   ]
  },
  {
   "cell_type": "markdown",
   "id": "03c30254-02e2-410e-a00c-514e26584c12",
   "metadata": {},
   "source": [
    "# Résolution Lab 2 - Partie 1"
   ]
  },
  {
   "cell_type": "markdown",
   "id": "580f4b69-7244-4935-851e-701ac91632b0",
   "metadata": {},
   "source": [
    "## 1. Définition des fonctions importantes et détermination de la valeur de L"
   ]
  },
  {
   "cell_type": "markdown",
   "id": "aaa58903-2963-43da-8eee-c331d7a5994b",
   "metadata": {},
   "source": [
    "### 1.1 Les différentes matrices de tracé de rayons"
   ]
  },
  {
   "cell_type": "code",
   "execution_count": 3,
   "id": "0f35ecf0-7272-4f1d-b619-392a4be22354",
   "metadata": {},
   "outputs": [],
   "source": [
    "def Mlens(f):\n",
    "    '''\n",
    "        Retourne la matrice de tracé de rayon pour une lentille \n",
    "        mince ayant une longueur focale f\n",
    "    '''\n",
    "    M = np.array([[1, 0],\n",
    "                  [-1/f, 1]])\n",
    "    return M\n",
    "\n",
    "def Mtrans(d):\n",
    "    '''\n",
    "        Retourne la matrice de tracé de rayon pour une translation\n",
    "        d'une distance d \n",
    "    '''\n",
    "    M = np.array([[1, d],\n",
    "                  [0, 1]])\n",
    "    return M"
   ]
  },
  {
   "cell_type": "markdown",
   "id": "81b488fa-7c65-4e3d-ab43-f403cdad9c20",
   "metadata": {},
   "source": [
    "### 1.2 Fonction pour créer la matrice du système optique \n",
    "\n",
    "Voici les 7 étapes du système de caméra: \n",
    "1. Translation de $L_{obj}$ ($x$ est notre inconue à trouver)\n",
    "2. Lentille mince convergente de longueur focale $f_1=150$ mm\n",
    "3. Translation de $L_2$\n",
    "4. Lentille divergente de longueur focale $f_2=-75$ mm\n",
    "5. Translation de $L_3$\n",
    "6. Lentille mince convergente de longueur focale $f_3=75$ mm\n",
    "7. Translation de $L_{im}$\n"
   ]
  },
  {
   "cell_type": "code",
   "execution_count": 114,
   "id": "fd5f13ab-171b-4316-86ab-3f5b0b1dc7cb",
   "metadata": {},
   "outputs": [],
   "source": [
    "def system_matrix(s1, s2, s3, Lobj, f1=150, f2=-75, f3=75): # [mm]\n",
    "    '''\n",
    "        Retourne la matrice de tracé de rayon 2x2 d'une caméra simple\n",
    "    '''\n",
    "    Mtot = Mtrans(s3)@Mlens(f3)@Mtrans(s2)@Mlens(f2)@Mtrans(s1)@Mlens(f1)@Mtrans(Lobj)\n",
    "    return Mtot"
   ]
  },
  {
   "cell_type": "markdown",
   "id": "50c1221c-a8d3-4523-86e8-70173c92fe35",
   "metadata": {
    "tags": []
   },
   "source": [
    "### 1.3 Test du cas extrême de L"
   ]
  },
  {
   "cell_type": "code",
   "execution_count": 41,
   "id": "02a7fdbb-87d5-46e3-9c80-f9240b40da9c",
   "metadata": {},
   "outputs": [
    {
     "name": "stdout",
     "output_type": "stream",
     "text": [
      "[-15.2173913043478 - 63.305303385048*I, -15.2173913043478 + 63.305303385048*I]\n"
     ]
    }
   ],
   "source": [
    "# Pour le cas extrême où L = 100mm, on a que s1 = 0mm. Donc, la lentille f1 est collée à la lentille f2.\n",
    "s1 = 0 # [mm]\n",
    "L = 100 # [mm]\n",
    "Lobj = 1000 # [mm]\n",
    "s2 = sp.symbols('s2')\n",
    "s3 = L-s1-s2\n",
    "# on trouve la matrice de tracé de rayon pour le plan image en orange\n",
    "Msys = system_matrix(s1, s2, s3, Lobj)\n",
    "# On est dans le cas où le rayon incident et le rayon transmis convergent chancun en un point.\n",
    "# On est donc dans le cas où le coefficient B de la matrice [[A B], [C,D]] vaut 0.\n",
    "B = Msys[0, 1] \n",
    "# On résoud le système formé de l'élément (0,1) de la matrice de tracé de rayon égal à 0.\n",
    "s2_solve = sp.solve(B)\n",
    "\n",
    "print(s2_solve)\n",
    "# On peut voir que les solutions pour s2 sont soit négatives ou complexes, ce qui sont des résultats\n",
    "# illogiques voyant que s2 est la distance entre la lentille f2 et la lentille f3. On peut expliquer\n",
    "# ce résultat par le fait qu'il semble ne pas exister de valeurs possibles pour s2 qui permettent\n",
    "# d'avoir B=0. Il faut donc augmenter la valeur de L pour permettre d'obtenir des solutions logiques."
   ]
  },
  {
   "cell_type": "markdown",
   "id": "ffc716b3",
   "metadata": {},
   "source": [
    "### 1.4 Augmentons la valeur de L pour obtenir des solutions physiques"
   ]
  },
  {
   "cell_type": "code",
   "execution_count": 47,
   "id": "1ca218e3",
   "metadata": {},
   "outputs": [
    {
     "data": {
      "image/png": "[encoded data removed]",
      "text/plain": [
       "<Figure size 432x288 with 1 Axes>"
      ]
     },
     "metadata": {
      "needs_background": "light"
     },
     "output_type": "display_data"
    }
   ],
   "source": [
    "# Augmentons la valeur de L.\n",
    "L = [200, 190, 180, 170, 150] # [mm]\n",
    "Lobj = 1000 # [mm]\n",
    "s1 = np.linspace(0, 75, 50) # [mm]\n",
    "s2 = sp.symbols('s2')\n",
    "\n",
    "for Lval in L:\n",
    "    slns = []\n",
    "    for s1_val in s1:\n",
    "        # On trouve la matrice de tracé de rayon \n",
    "        s3 = Lval-s1_val-s2\n",
    "        Msys = system_matrix(s1_val, s2, s3, Lobj)\n",
    "        # On est dans le cas où le rayon incident et le rayon transmis convergent chancun en un point.\n",
    "        # On est donc dans le cas où le coefficient B de la matrice [[A B], [C,D]] vaut 0.\n",
    "        B = Msys[0, 1] \n",
    "        # print(type(B))\n",
    "        # print(sp.solve(B)[0])\n",
    "        slns.append(sp.solve(B)[-1]) # On garde que la solution positive\n",
    "        # print(slns)\n",
    "    slns = np.complex_(slns)\n",
    "    for i in range(len(slns)):\n",
    "        if  slns[i].imag != 0.0 or slns[i].real<0:\n",
    "            slns[i] = 0 \n",
    "    slns = slns.real\n",
    "    plt.plot(s1, slns, label=f'L={Lval} mm')\n",
    "\n",
    "plt.legend()\n",
    "plt.xlabel(\"s1 (en mm)\")\n",
    "plt.ylabel(\"s2 (en mm)\")\n",
    "plt.grid()"
   ]
  },
  {
   "cell_type": "markdown",
   "id": "3b327fd6",
   "metadata": {},
   "source": [
    "Allons avec L=190mm, car elle semble être la valeur la plus petite de $L$ qui fait que $s2$ est positif et réel pour les valeurs de $s1$ considérées et des valeurs plus grandes aussi."
   ]
  },
  {
   "cell_type": "markdown",
   "id": "d7199230",
   "metadata": {},
   "source": [
    "# 2. Graphiques"
   ]
  },
  {
   "cell_type": "markdown",
   "id": "00b9cbc7-47b6-4ec1-ba76-540ed8003143",
   "metadata": {},
   "source": [
    "### 2.1 Graphique 1: Grossissement vs position de la lentille L2 ."
   ]
  },
  {
   "cell_type": "code",
   "execution_count": 118,
   "id": "d3f5f2c0",
   "metadata": {},
   "outputs": [
    {
     "name": "stdout",
     "output_type": "stream",
     "text": [
      "g_min  0.0778391094508551 \n",
      "\n",
      "g_max  0.164612180101680 \n",
      "\n",
      "Facteur de grossissement  2.11477470982129 \n",
      "\n"
     ]
    },
    {
     "data": {
      "image/png": "[encoded data removed]",
      "text/plain": [
       "<Figure size 432x288 with 1 Axes>"
      ]
     },
     "metadata": {
      "needs_background": "light"
     },
     "output_type": "display_data"
    }
   ],
   "source": [
    "L = 190 # [mm]\n",
    "Lobj = 1000 # [mm]\n",
    "s1 = np.linspace(0, 75, 50) # [mm]\n",
    "s2 = sp.symbols('s2')\n",
    "s2_slns = []\n",
    "gross = []\n",
    "for s1_val in s1:\n",
    "    # On trouve la matrice de tracé de rayon \n",
    "    s3 = L-s1_val-s2\n",
    "    Msys = system_matrix(s1_val, s2, s3, Lobj)\n",
    "    # On est dans le cas où le rayon incident et le rayon transmis convergent chancun en un point.\n",
    "    # On est donc dans le cas où le coefficient B de la matrice [[A B], [C,D]] vaut 0.\n",
    "    A = Msys[0, 0]\n",
    "    B = Msys[0, 1] \n",
    "    s2_solve = sp.solve(B, s2)[-1]\n",
    "    s2_slns.append(s2_solve)\n",
    "    gross.append(A.evalf(subs={'s2':s2_solve})) # On garde que la solution positive\n",
    "\n",
    "gross_min = min(np.abs(gross))\n",
    "gross_max = max(np.abs(gross))\n",
    "print(\"g_min \", gross_min, \"\\n\")\n",
    "print(\"g_max \", gross_max, \"\\n\")\n",
    "\n",
    "fact_gross = gross_max/gross_min\n",
    "print(\"Facteur de grossissement \", fact_gross, \"\\n\")\n",
    "\n",
    "plt.plot(s1, gross)\n",
    "plt.xlabel(\"Position de la lentille 2 (s1, en mm)\")\n",
    "plt.ylabel(\"Grossissement (g, sans unité)\")\n",
    "plt.grid()\n",
    "# Le grossissement est négatif et il est plus petit que 1 en valeur absolue, ce qui \n",
    "# est exactement ce qu'on veut \n",
    "# Nic -> :)"
   ]
  },
  {
   "cell_type": "code",
   "execution_count": 117,
   "id": "668378dc",
   "metadata": {},
   "outputs": [
    {
     "name": "stdout",
     "output_type": "stream",
     "text": [
      "[-0.0778391094508551, -0.0797058098583031, -0.0816216290102258, -0.0835863201338303, -0.0855993228293189, -0.0876597176046570, -0.0897661784449776, -0.0919169246351034, -0.0941096735237903, -0.0963415964478262, -0.0986092805928226, -0.100908700105260, -0.103235200212733, -0.105583498357909, -0.107947706292188, -0.110321376588871, -0.112697576027253, -0.115068986725859, -0.117428033809792, -0.119767035943143, -0.122078372519004, -0.124354659045345, -0.126588920691276, -0.128774753401326, -0.130906462631720, -0.132979171584765, -0.134988893565083, -0.136932566332928, -0.138808049589070, -0.140614089536297, -0.142350256498955, -0.144016862697317, -0.145614867496247, -0.147145776937384, -0.148611543351284, -0.150014469571387, -0.151357120943763, -0.152642247097413, -0.153872714401416, -0.155051449226234, -0.156181391546563, -0.157265458047530, -0.158306513687467, -0.159307350589337, -0.160270673141682, -0.161199088257586, -0.162095099841895, -0.162961106634556, -0.163799402719100, -0.164612180101680]\n"
     ]
    }
   ],
   "source": [
    "print(gross)"
   ]
  },
  {
   "cell_type": "code",
   "execution_count": 121,
   "id": "1cf887e3",
   "metadata": {},
   "outputs": [
    {
     "name": "stdout",
     "output_type": "stream",
     "text": [
      "Le grossissement maximal est  0.164612180101680 mm\n",
      "La position s1 donnant le grossissement maximal est  75.0 mm\n",
      "La position s2 donnant le grossissement maximal est  15.3081729847480 mm\n",
      "La position s3 donnant le grossissement maximal est  99.6918270152520 mm\n",
      "Le grossissement minimal est  0.0778391094508551 mm\n",
      "La position s1 donnant le grossissement minimal est  0.0 mm\n",
      "La position s2 donnant le grossissement minimal est  70.2425120657584 mm\n",
      "La position s3 donnant le grossissement minimal est  119.757487934242 mm\n"
     ]
    }
   ],
   "source": [
    "print(\"Le grossissement maximal est \", gross_max, \"mm\")\n",
    "print(\"La position s1 donnant le grossissement maximal est \", s1[-1], \"mm\")\n",
    "print(\"La position s2 donnant le grossissement maximal est \", s2_slns[-1], \"mm\")\n",
    "print(\"La position s3 donnant le grossissement maximal est \", L-s1[-1]-s2_slns[-1], \"mm\")\n",
    "print(\"Le grossissement minimal est \", gross_min, \"mm\")\n",
    "print(\"La position s1 donnant le grossissement minimal est \", s1[0], \"mm\")\n",
    "print(\"La position s2 donnant le grossissement minimal est \", s2_slns[0], \"mm\")\n",
    "print(\"La position s3 donnant le grossissement minimal est \", L-s1[0]-s2_slns[0], \"mm\")"
   ]
  },
  {
   "cell_type": "markdown",
   "id": "8179294a-07c9-45d5-8008-c9d060ec5d01",
   "metadata": {},
   "source": [
    "### 2.2 Graphique 2: Résolution vs position de la lentille L2\n",
    "\n",
    "De manière générale, la résolution est définie comme la distance minimale pour distinguer deux éléments de n'importe quoi. Ici, la résolution est définie comme la distance minimale entre deux points dans le plan objet qui de manière à ce que ces deux points soient imagés sur deux pixels différents dans le plan image.\n",
    "\n",
    "Le développement fait précédemment était fait en allant du plan objet au plan image. Si on voulait aller du plan image au plan objet, on pourrait refaire tout le développement ou on peut réaliser que c'est tout simplement le chemin inverse de ce qu'on vient juste de faire. On peut donc facilement déterminer la taille d'un pixel dans le plan objet en divisant la taille d'un pixel, soit $3,6 \\mu$ m $\\times$  $3,6 \\mu m$, par le grossissement trouvé précédemment pour chaque valeur de $s2$. \n",
    "\n"
   ]
  },
  {
   "cell_type": "code",
   "execution_count": 52,
   "id": "97c16d69",
   "metadata": {},
   "outputs": [
    {
     "data": {
      "image/png": "[encoded data removed]",
      "text/plain": [
       "<Figure size 432x288 with 1 Axes>"
      ]
     },
     "metadata": {
      "needs_background": "light"
     },
     "output_type": "display_data"
    }
   ],
   "source": [
    "taille_pixel = 3.6e-3 # [mm]\n",
    "res = []\n",
    "for element in g:\n",
    "    # J'ai pris la valeur absolue, car je ne vois pas\n",
    "    res.append(np.abs(taille_pixel/element)) \n",
    "plt.plot(s1, res)\n",
    "plt.xlabel(\"Position de la lentille 2 (s1, en mm)\")\n",
    "plt.ylabel(\"Résolution (en mm)\")\n",
    "plt.grid()"
   ]
  },
  {
   "cell_type": "markdown",
   "id": "20668a8c-5c92-4958-8eab-dcec7db1d237",
   "metadata": {},
   "source": [
    "### 2.3 Graphique 3: Profondeur de champ vs position de la lentille L2\n",
    "\n",
    "Même chose que pour le pré-lab 1, mais on utilise $d_{pixel}$ au lieu de $d_{steno}$\n",
    "\n",
    "Ici, notre but est de résoudre pour la valeur de $s_3 = L-s_1-s_2$"
   ]
  },
  {
   "cell_type": "code",
   "execution_count": 74,
   "id": "762d73f1",
   "metadata": {},
   "outputs": [],
   "source": [
    "\n",
    "\n",
    "# Fonction pour calculer la profondeur de champ (PdC)\n",
    "def PdC(s1, L, s3_orange, s3_rose):\n",
    "    # on trouve la matrice de tracé de rayon pour le plan image en orange\n",
    "    Lobj = sp.symbols('Lobj')\n",
    "    \n",
    "    Msys = system_matrix(s1, L-s1-s3_orange, s3_orange, Lobj)\n",
    "    # On est dans le cas où le rayon incident et le rayon transmis convergent chancun en un point.\n",
    "    # On est donc dans le cas où le coefficient B de la matrice [[A B], [C,D]] vaut 0.\n",
    "    B = Msys[0, 1] \n",
    "    # On résoud le système formé de l'élément (0,1) de la matrice de tracé de rayon égal à 0.\n",
    "    x1 = sp.solve(B)[0]\n",
    "\n",
    "    # On trouve la matrice de tracé de rayon pour le plan image en rose.\n",
    "    Lobj = sp.symbols('Lobj')\n",
    "    Msys = system_matrix(s1, L-s1-s3_rose, s3_rose, Lobj)\n",
    "    # Même chose que pour le plan image en orange.\n",
    "    B = Msys[0, 1]\n",
    "    # On résoud le système formé de l'élément (0,1) de la matrice de tracé de rayon égal à 0.\n",
    "    x2 = sp.solve(B)[0]\n",
    "    # On calcule la résolution axiale.\n",
    "    dof = np.abs(x2-x1)\n",
    "    return dof"
   ]
  },
  {
   "cell_type": "code",
   "execution_count": 76,
   "id": "bacfcb9f",
   "metadata": {},
   "outputs": [
    {
     "data": {
      "image/png": "[encoded data removed]",
      "text/plain": [
       "<Figure size 432x288 with 1 Axes>"
      ]
     },
     "metadata": {
      "needs_background": "light"
     },
     "output_type": "display_data"
    }
   ],
   "source": [
    "# Calcul Retourne la position des plans images (orange et rose), qui se retrouvent\n",
    "# à droite de la lentille à droite\n",
    "f3 = 150 # [mm]  \n",
    "d = 3.6e-3 # [mm] \n",
    "D = 25.4 # [mm] \n",
    "s3_orange = f3 - (d*f3)/(D-d) # Position du plan image en orange en [mm] \n",
    "s3_rose = f3 + (d*f3)/(D-d) # Position du plan image en rose en [mm] \n",
    "\n",
    "L = 190 # [mm]\n",
    "s1 = np.linspace(0, 75, 50) # [mm] \n",
    "PdC_vals = []\n",
    "# Calcul de la profondeur de champ pour chaque valeur de s1\n",
    "for s1_val in s1: \n",
    "    PdC_vals.append(PdC(s1_val, L, s3_orange, s3_rose))\n",
    "\n",
    "plt.plot(s1, PdC_vals)\n",
    "plt.xlabel(\"Position de la lentille 2 (s1, en mm)\")\n",
    "plt.ylabel(\"Profondeur de champ (en mm)\")\n",
    "plt.grid()"
   ]
  },
  {
   "cell_type": "markdown",
   "id": "bd8b8cd4",
   "metadata": {},
   "source": [
    "# 3. Calcul de la position des lentilles pour un objet provenant de $\\infty$\n",
    "\n",
    "Pour simuler l'image d'un objet provenant de l'infini, il est possible d'ajouter une lentille convergente\n",
    "\n",
    "\n",
    "Voici les 7 étapes du système de caméra: \n",
    "1. Translation de $L_{obj}$ ($x$ est notre inconue à trouver)\n",
    "2. Lentille mince convergente de longueur focale $f_1=150$ mm\n",
    "3. Translation de $L_2$\n",
    "4. Lentille divergente de longueur focale $f_2=-75$ mm\n",
    "5. Translation de $L_3$\n",
    "6. Lentille mince convergente de longueur focale $f_3=75$ mm\n",
    "7. Translation de $L_{im}$\n"
   ]
  },
  {
   "cell_type": "code",
   "execution_count": 116,
   "id": "200a26b3",
   "metadata": {},
   "outputs": [],
   "source": [
    "def system_matrix2(s1, s2, s3, f1=150, f2=-75, f3=75): # [mm]\n",
    "    '''\n",
    "        Retourne la matrice de tracé de rayon 2x2 du système de microscopie confocale\n",
    "        Celle-ci contient l'inconnu 'x' comme variable symbolique\n",
    "    '''\n",
    "    Mtot = Mtrans(s3)@Mlens(f3)@Mtrans(s2)@Mlens(f2)@Mtrans(s1)@Mlens(f1)\n",
    "    return Mtot"
   ]
  },
  {
   "cell_type": "code",
   "execution_count": 104,
   "id": "17826fca",
   "metadata": {},
   "outputs": [
    {
     "name": "stdout",
     "output_type": "stream",
     "text": [
      "g_min  0.231112036651395 \n",
      "\n",
      "g_max  0.266666666666667 \n",
      "\n",
      "Facteur de grossissement  1.15384153300895 \n",
      "\n"
     ]
    },
    {
     "data": {
      "image/png": "[encoded data removed]",
      "text/plain": [
       "<Figure size 432x288 with 1 Axes>"
      ]
     },
     "metadata": {
      "needs_background": "light"
     },
     "output_type": "display_data"
    }
   ],
   "source": [
    "L = 190 # [mm]\n",
    "s1 = np.linspace(0, 75, 50) # [mm]\n",
    "# s2 = sp.symbols('s2')\n",
    "s_3 = f_eq\n",
    "s1_graph = []\n",
    "s2_slns = []\n",
    "g = []\n",
    "for s1_val in s1:\n",
    "    # On trouve la matrice de tracé de rayon \n",
    "    s3 = L-s1_val-s2\n",
    "    Msys = system_matrix(s1_val, s2, s3)\n",
    "    # On est dans le cas où le rayon incident et le rayon transmis convergent chancun en un point.\n",
    "    # On est donc dans le cas où le coefficient B de la matrice [[A B], [C,D]] vaut 0.\n",
    "    A = Msys[0, 0]\n",
    "    # B = Msys[0, 1] \n",
    "    s2_solve = L-s1_val-s_3\n",
    "    if s2_solve >0:\n",
    "        s1_graph.append(s1_val)\n",
    "        s2_slns.append(s2_solve)\n",
    "        g.append(A.evalf(subs={'s2':s2_solve})) \n",
    "\n",
    "g_min = min(np.abs(g))\n",
    "g_max = max(np.abs(g))\n",
    "print(\"g_min \", g_min, \"\\n\")\n",
    "print(\"g_max \", g_max, \"\\n\")\n",
    "\n",
    "fact_gross = g_max/g_min\n",
    "print(\"Facteur de grossissement \", fact_gross, \"\\n\")\n",
    "\n",
    "plt.plot(s1_graph, g)\n",
    "plt.xlabel(\"Position de la lentille 2 (s1, en mm)\")\n",
    "plt.ylabel(\"Grossissement (g, sans unité)\")\n",
    "plt.grid()"
   ]
  },
  {
   "cell_type": "code",
   "execution_count": 106,
   "id": "e8e4912c",
   "metadata": {},
   "outputs": [
    {
     "name": "stdout",
     "output_type": "stream",
     "text": [
      "[-0.266666666666667, -0.261432736359850, -0.256615299180897, -0.252214355129807, -0.248229904206581, -0.244661946411218, -0.241510481743718, -0.238775510204082, -0.236457031792309, -0.234555046508399, -0.233069554352353, -0.232000555324171, -0.231348049423851, -0.231112036651395, -0.231292517006803, -0.231889490490074, -0.232902957101208, -0.234332916840206, -0.236179369707067, -0.238442315701791, -0.241121754824379, -0.244217687074830, -0.247730112453145, -0.251659030959323, -0.256004442593364, -0.260766347355269, -0.265944745245037]\n"
     ]
    }
   ],
   "source": [
    "print(g)"
   ]
  },
  {
   "cell_type": "code",
   "execution_count": 108,
   "id": "791f8a17",
   "metadata": {},
   "outputs": [
    {
     "name": "stdout",
     "output_type": "stream",
     "text": [
      "Position de la lentille 2 donnant le grossissement minimal  0.0 mm \n",
      "\n",
      "Valeur du grossissement minimal en valeur absolue 0.266666666666667 \n",
      "\n",
      "Position de la lentille 2 donnant le grossissement minimal 19.897959183673468 mm \n",
      "\n",
      "Valeur du grossissement maximal en valeur absolue  0.231112036651395 \n",
      "\n"
     ]
    }
   ],
   "source": [
    "print(\"Position de la lentille 2 donnant le grossissement minimal \",s1_graph[0],\"mm \\n\")\n",
    "print(\"Valeur du grossissement minimal en valeur absolue\",np.abs(g[0]),\"\\n\")\n",
    "print(\"Position de la lentille 2 donnant le grossissement minimal\",s1_graph[13],\"mm \\n\")\n",
    "print(\"Valeur du grossissement maximal en valeur absolue \",np.abs(g[13]),\"\\n\")"
   ]
  },
  {
   "cell_type": "code",
   "execution_count": 109,
   "id": "23cafe3d",
   "metadata": {},
   "outputs": [
    {
     "name": "stdout",
     "output_type": "stream",
     "text": [
      "Position de la lentille 3 donnant le grossissement minimal  40.0 mm \n",
      "\n",
      "Position de la lentille 3 donnant le grossissement maximal 20.102040816326536 mm \n",
      "\n"
     ]
    }
   ],
   "source": [
    "print(\"Position de la lentille 3 donnant le grossissement minimal \",s2_slns[0],\"mm \\n\")\n",
    "print(\"Position de la lentille 3 donnant le grossissement maximal\",s2_slns[13],\"mm \\n\")"
   ]
  },
  {
   "cell_type": "code",
   "execution_count": 102,
   "id": "3373b058",
   "metadata": {},
   "outputs": [
    {
     "name": "stdout",
     "output_type": "stream",
     "text": [
      "[40.0, 38.46938775510205, 36.938775510204096, 35.408163265306115, 33.87755102040816, 32.34693877551021, 30.81632653061226, 29.285714285714278, 27.755102040816325, 26.224489795918373, 24.69387755102042, 23.16326530612244, 21.632653061224488, 20.102040816326536, 18.571428571428584, 17.040816326530603, 15.51020408163265, 13.979591836734699, 12.448979591836746, 10.918367346938766, 9.387755102040813, 7.857142857142861, 6.326530612244909, 4.795918367346928, 3.265306122448976, 1.7346938775510239, 0.20408163265307167, -1.3265306122448806, -2.857142857142861, -4.387755102040813, -5.918367346938766, -7.448979591836746, -8.979591836734699, -10.51020408163265, -12.040816326530603, -13.571428571428555, -15.102040816326536, -16.632653061224488, -18.16326530612244, -19.69387755102042, -21.224489795918373, -22.755102040816325, -24.285714285714278, -25.816326530612244, -27.346938775510196, -28.877551020408163, -30.408163265306115, -31.93877551020408, -33.469387755102034, -35.0]\n"
     ]
    }
   ],
   "source": [
    "print(s2_slns)"
   ]
  }
 ],
 "metadata": {
  "kernelspec": {
   "display_name": "Python 3.9.12 ('base')",
   "language": "python",
   "name": "python3"
  },
  "language_info": {
   "codemirror_mode": {
    "name": "ipython",
    "version": 3
   },
   "file_extension": ".py",
   "mimetype": "text/x-python",
   "name": "python",
   "nbconvert_exporter": "python",
   "pygments_lexer": "ipython3",
   "version": "3.9.12"
  },
  "vscode": {
   "interpreter": {
    "hash": "3589135b0d096a825f7677bcb4cc0e24069d2fa761ee480062bc4c5e27da94f7"
   }
  }
 },
 "nbformat": 4,
 "nbformat_minor": 5
}
