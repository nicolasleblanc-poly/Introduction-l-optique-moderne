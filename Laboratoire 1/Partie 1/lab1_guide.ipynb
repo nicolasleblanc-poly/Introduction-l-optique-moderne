{
 "cells": [
  {
   "cell_type": "code",
   "execution_count": 1,
   "id": "2b7e8b95-36c6-4468-a1e4-6e4de18af9eb",
   "metadata": {},
   "outputs": [],
   "source": [
    "# on importe les librairies importantes\n",
    "import numpy as np\n",
    "import matplotlib.pyplot as plt\n",
    "import sympy as sp"
   ]
  },
  {
   "cell_type": "markdown",
   "id": "03c30254-02e2-410e-a00c-514e26584c12",
   "metadata": {},
   "source": [
    "# Résolution Lab 1 - Partie 1"
   ]
  },
  {
   "cell_type": "markdown",
   "id": "580f4b69-7244-4935-851e-701ac91632b0",
   "metadata": {},
   "source": [
    "## 1. Définition des fonctions importantes"
   ]
  },
  {
   "cell_type": "markdown",
   "id": "aaa58903-2963-43da-8eee-c331d7a5994b",
   "metadata": {},
   "source": [
    "### 1.1 Ray tracing matrix"
   ]
  },
  {
   "cell_type": "code",
   "execution_count": 2,
   "id": "0f35ecf0-7272-4f1d-b619-392a4be22354",
   "metadata": {},
   "outputs": [],
   "source": [
    "def Mlens(f):\n",
    "    '''\n",
    "        Retourne la matrice de tracé de rayon pour une lentille \n",
    "        mince ayant une longueur focale f\n",
    "    '''\n",
    "    M = np.array([[1, 0],\n",
    "                  [-1/f, 1]])\n",
    "    return M\n",
    "\n",
    "def Mtrans(d):\n",
    "    '''\n",
    "        Retourne la matrice de tracé de rayon pour une translation\n",
    "        d'une distance d \n",
    "    '''\n",
    "    M = np.array([[1, d],\n",
    "                  [0, 1]])\n",
    "    return M"
   ]
  },
  {
   "cell_type": "markdown",
   "id": "e0e7fc76-f759-445d-a69f-ebcb335b6abb",
   "metadata": {},
   "source": [
    "### 1.2 Détermination de la position des 2 plans images limites\n",
    "\n",
    "Le premier plan image est celui en orange et le deuxième est celui en rose. pointillés orange et rose."
   ]
  },
  {
   "cell_type": "code",
   "execution_count": 3,
   "id": "dc6b0696-f3e9-475c-ba33-b9d2d4f5fa29",
   "metadata": {},
   "outputs": [],
   "source": [
    "def find_image_planes(f, d, D=25.4e-3):\n",
    "    '''\n",
    "        Retourne la position des plans images (orange et rose), qui se retrouvent\n",
    "        à droite de la lentille à droite\n",
    "    '''\n",
    "    dist_orange = f - (d*f)/(D-d) # Position du plan image en orange\n",
    "    dist_rose = f + (d*f)/(D-d) # Position du plan image en rose\n",
    "    return dist_orange, dist_rose"
   ]
  },
  {
   "cell_type": "markdown",
   "id": "81b488fa-7c65-4e3d-ab43-f403cdad9c20",
   "metadata": {},
   "source": [
    "### 1.3 Fonction pour créer la matrice du système optique \n",
    "\n",
    "Voici les 5 étapes du système de microscopie confocale: \n",
    "1. Translation de $x$ ($x$ est notre inconue à trouver)\n",
    "1. Réfraction par lentille mince courbe $f_1$\n",
    "1. Translation de $L$\n",
    "1. Réfraction par lentille mince courbe $f_2$\n",
    "1. Translation `dist_image`\n",
    "\n",
    "`dist_image` sont les distances `dist_p1` (plan image orange) et `dist_p2` (plan image en rose) "
   ]
  },
  {
   "cell_type": "code",
   "execution_count": 4,
   "id": "fd5f13ab-171b-4316-86ab-3f5b0b1dc7cb",
   "metadata": {},
   "outputs": [],
   "source": [
    "def system_matrix(f, L, dist_image):\n",
    "    '''\n",
    "        Retourne la matrice de tracé de rayon 2x2 du système de microscopie confocale\n",
    "        Celle-ci contient l'inconnu 'x' comme variable symbolique\n",
    "    '''\n",
    "    x = sp.symbols('x')\n",
    "    Mtot = Mtrans(dist_image)@Mlens(f)@Mtrans(L)@Mlens(f)@Mtrans(x)\n",
    "    return Mtot"
   ]
  },
  {
   "cell_type": "markdown",
   "id": "50c1221c-a8d3-4523-86e8-70173c92fe35",
   "metadata": {
    "tags": []
   },
   "source": [
    "### 1.4 Fonction de calcul *complet*\n",
    "\n",
    "Cette fonction calcule le profondeur de champ à partir de tous les paramètres du système."
   ]
  },
  {
   "cell_type": "code",
   "execution_count": 5,
   "id": "02a7fdbb-87d5-46e3-9c80-f9240b40da9c",
   "metadata": {},
   "outputs": [],
   "source": [
    "def compute_dof(f, L, pinhole_size):\n",
    "    # On trouve la position des deux plans images.\n",
    "    dist_orange, dist_rose = find_image_planes(f, pinhole_size)\n",
    "    \n",
    "    # on trouve la matrice de tracé de rayon pour le plan image en orange\n",
    "    Msys = system_matrix(f, L, dist_orange)\n",
    "    # On est dans le cas où le rayon incident et le rayon transmis convergent chancun en un point.\n",
    "    # On est donc dans le cas où le coefficient B de la matrice [[A B], [C,D]] vaut 0.\n",
    "    B = Msys[0, 1] \n",
    "    # On résoud le système formé de l'élément (0,1) de la matrice de tracé de rayon égal à 0.\n",
    "    x1 = sp.solve(B)[0]\n",
    "\n",
    "    # On trouve la matrice de tracé de rayon pour le plan image en rose.\n",
    "    Msys = system_matrix(f, L, dist_rose)\n",
    "    # Même chose que pour le plan image en orange.\n",
    "    B = Msys[0, 1]\n",
    "    # On résoud le système formé de l'élément (0,1) de la matrice de tracé de rayon égal à 0.\n",
    "    x2 = sp.solve(B)[0]\n",
    "    # On calcule la résolution axiale.\n",
    "    dof = np.abs(x2-x1)\n",
    "    return dof"
   ]
  },
  {
   "cell_type": "markdown",
   "id": "d7199230",
   "metadata": {},
   "source": [
    "# 2. Résultats"
   ]
  },
  {
   "cell_type": "markdown",
   "id": "00b9cbc7-47b6-4ec1-ba76-540ed8003143",
   "metadata": {},
   "source": [
    "### 2.1 Graphique 1: $d$ vs $\\delta_z$ pour $L=f$ et $f=f_1=f_2=$ 25, 35, 50, 100 et 100 mm"
   ]
  },
  {
   "cell_type": "code",
   "execution_count": 6,
   "id": "d8c5504b-1aee-447a-9731-72be73562d49",
   "metadata": {},
   "outputs": [],
   "source": [
    "f = [25e-3,35e-3,50e-3,100e-3,150e-3]  # [m]\n",
    "pinhole_sizes = [50.0e-6,75.0e-6,100.0e-6,150.0e-6] # [m]\n",
    "every_dofs = []\n",
    "for i in range(len(f)):\n",
    "    dofs = []\n",
    "    for j in range(len(pinhole_sizes)):\n",
    "        # On calculate la résolution axiale\n",
    "        dof = compute_dof(f[i], f[i], pinhole_sizes[j])\n",
    "        # On ajoute la résolution axiale à une liste contenant les différentes résolutions axiales\n",
    "        dofs.append(dof)\n",
    "    # On ajoute les dofs pour une distance d à une liste storant les dofs pour les différents d\n",
    "    every_dofs.append(dofs)"
   ]
  },
  {
   "cell_type": "code",
   "execution_count": 7,
   "id": "edf13be7-b213-4645-9c0d-d8c3e98aefb0",
   "metadata": {
    "tags": []
   },
   "outputs": [
    {
     "data": {
      "text/plain": [
       "<matplotlib.legend.Legend at 0x7f8db545ea90>"
      ]
     },
     "execution_count": 7,
     "metadata": {},
     "output_type": "execute_result"
    },
    {
     "data": {
      "image/png": "[encoded data removed]",
      "text/plain": [
       "<Figure size 432x288 with 1 Axes>"
      ]
     },
     "metadata": {
      "needs_background": "light"
     },
     "output_type": "display_data"
    }
   ],
   "source": [
    "plt.figure()\n",
    "for i in range(len(f)):\n",
    "    plt.plot(pinhole_sizes, every_dofs[i], label=f'$f = ${f[i]} $m$')\n",
    "plt.xlabel('Taille du sténopé d (m)')\n",
    "plt.ylabel('Résolution Axiale $\\delta_z$ (m)')\n",
    "plt.legend()"
   ]
  },
  {
   "cell_type": "markdown",
   "id": "8179294a-07c9-45d5-8008-c9d060ec5d01",
   "metadata": {},
   "source": [
    "### 2.2 Graphique 2: $f$ vs $\\delta_z$ pour $L=f$ et $d$ = 25, 35, 50, 100 et 100 micro-m"
   ]
  },
  {
   "cell_type": "code",
   "execution_count": 8,
   "id": "592deabb",
   "metadata": {},
   "outputs": [],
   "source": [
    "f = [25e-3,35e-3,50e-3,100e-3,150e-3]  # [m]\n",
    "pinhole_sizes = [50.0e-6,75.0e-6,100.0e-6,150.0e-6] # [m]\n",
    "every_dofs = []\n",
    "for i in range(len(pinhole_sizes)):\n",
    "    dofs = []\n",
    "    for j in range(len(f)):\n",
    "        # On calculate la résolution axiale\n",
    "        dof = compute_dof(f[j], f[j], pinhole_sizes[i])\n",
    "        # On ajoute la résolution axiale à une liste contenant les différentes résolutions axiales\n",
    "        dofs.append(dof)\n",
    "    # On ajoute les dofs pour une distance d à une liste storant les dofs pour les différents d\n",
    "    every_dofs.append(dofs)"
   ]
  },
  {
   "cell_type": "code",
   "execution_count": 9,
   "id": "0f1b21e4",
   "metadata": {},
   "outputs": [
    {
     "data": {
      "text/plain": [
       "<matplotlib.legend.Legend at 0x7f8db525db20>"
      ]
     },
     "execution_count": 9,
     "metadata": {},
     "output_type": "execute_result"
    },
    {
     "data": {
      "image/png": "[encoded data removed]",
      "text/plain": [
       "<Figure size 432x288 with 1 Axes>"
      ]
     },
     "metadata": {
      "needs_background": "light"
     },
     "output_type": "display_data"
    }
   ],
   "source": [
    "plt.figure()\n",
    "for i in range(len(pinhole_sizes)):\n",
    "    plt.plot(f, every_dofs[i], label=f'$d = ${pinhole_sizes[i]} $m$')\n",
    "plt.xlabel('Longueur focale $f$ (m)')\n",
    "plt.ylabel('Résolution Axiale $\\delta_z$ (m)')\n",
    "plt.legend()"
   ]
  },
  {
   "cell_type": "markdown",
   "id": "20668a8c-5c92-4958-8eab-dcec7db1d237",
   "metadata": {},
   "source": [
    "### 2.3 Graphique 3: $L$ vs $\\delta_z$ pour $d$ = 75mm et $f_1=f_2=$ 25, 35, 50, 100 et 150 mm"
   ]
  },
  {
   "cell_type": "code",
   "execution_count": 10,
   "id": "69e2122a",
   "metadata": {},
   "outputs": [],
   "source": [
    "f = [25e-3,35e-3,45e-3,55e-3,75e-3]  # [m]\n",
    "pinhole_size = 75.0e-6 # [m]\n",
    "dofs = []\n",
    "L = [15e-3,25e-3,35e-3,45e-3] # [m]\n",
    "every_dofs = []\n",
    "for i in range(len(f)):\n",
    "    dofs = []\n",
    "    for j in range(len(L)):\n",
    "        # On calculate la résolution axiale\n",
    "        dof = compute_dof(f[i], L[j], pinhole_size)\n",
    "        # On ajoute la résolution axiale à une liste contenant les différentes résolutions axiales\n",
    "        dofs.append(dof)\n",
    "    # On ajoute les dofs pour une distance d à une liste storant les dofs pour les différents d\n",
    "    every_dofs.append(dofs)"
   ]
  },
  {
   "cell_type": "code",
   "execution_count": 11,
   "id": "dd0e53bb",
   "metadata": {},
   "outputs": [
    {
     "name": "stdout",
     "output_type": "stream",
     "text": [
      "[0.000266541538029637, 0.000266539921813594, 0.000266538536500951, 0.000266537382084542]\n"
     ]
    },
    {
     "data": {
      "image/png": "[encoded data removed]",
      "text/plain": [
       "<Figure size 432x288 with 1 Axes>"
      ]
     },
     "metadata": {
      "needs_background": "light"
     },
     "output_type": "display_data"
    }
   ],
   "source": [
    "plt.figure()\n",
    "for i in range(len(L)):\n",
    "    plt.plot(L, every_dofs[i], label=f'$f = ${f[i]} $m$')\n",
    "plt.xlabel('Séparation des lentilles L (m)')\n",
    "plt.ylabel('Résolution Axiale $\\delta_z$ (m)')\n",
    "plt.legend(loc='best')\n",
    "\n",
    "print(every_dofs[2])"
   ]
  },
  {
   "cell_type": "code",
   "execution_count": 12,
   "id": "bf63b3f2",
   "metadata": {},
   "outputs": [
    {
     "name": "stdout",
     "output_type": "stream",
     "text": [
      "[[0.068*x - 0.889999999999999 0.623333333333334*x - 8.58333333333333]\n",
      " [0.056*x + 1.62 0.513333333333333*x + 14.5]]\n"
     ]
    }
   ],
   "source": [
    "x = sp.symbols('x')\n",
    "Mtot = Mtrans(5.5)@Mlens(5)@Mtrans(20)@Mlens(50)@Mtrans(x)@Mlens(-15)@Mtrans(20)@Mlens(5)@Mtrans(15)\n",
    "print(Mtot)"
   ]
  },
  {
   "cell_type": "code",
   "execution_count": 13,
   "id": "22cc95a3",
   "metadata": {},
   "outputs": [
    {
     "name": "stdout",
     "output_type": "stream",
     "text": [
      "13.7700534759358 0.0463636363736354\n"
     ]
    }
   ],
   "source": [
    "B = Mtot[0, 1]\n",
    "# On résoud le système formé de l'élément (0,1) de la matrice de tracé de rayon égal à 0.\n",
    "x1 = sp.solve(B)[0]\n",
    "# On résoud le système formé de l'élément (0,1) de la matrice de tracé de rayon égal à 0.\n",
    "x2 = 0.068*x1 - 0.88999999999\n",
    "print(x1, x2)"
   ]
  }
 ],
 "metadata": {
  "kernelspec": {
   "display_name": "Python 3.9.12 ('base')",
   "language": "python",
   "name": "python3"
  },
  "language_info": {
   "codemirror_mode": {
    "name": "ipython",
    "version": 3
   },
   "file_extension": ".py",
   "mimetype": "text/x-python",
   "name": "python",
   "nbconvert_exporter": "python",
   "pygments_lexer": "ipython3",
   "version": "3.9.12"
  },
  "vscode": {
   "interpreter": {
    "hash": "3589135b0d096a825f7677bcb4cc0e24069d2fa761ee480062bc4c5e27da94f7"
   }
  }
 },
 "nbformat": 4,
 "nbformat_minor": 5
}
