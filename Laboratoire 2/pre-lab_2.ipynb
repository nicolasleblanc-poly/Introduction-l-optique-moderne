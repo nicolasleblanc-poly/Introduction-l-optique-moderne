{
 "cells": [
  {
   "cell_type": "code",
   "execution_count": 1,
   "id": "2b7e8b95-36c6-4468-a1e4-6e4de18af9eb",
   "metadata": {},
   "outputs": [],
   "source": [
    "# on importe les librairies importantes\n",
    "import numpy as np\n",
    "import matplotlib.pyplot as plt\n",
    "import sympy as sp"
   ]
  },
  {
   "cell_type": "markdown",
   "id": "03c30254-02e2-410e-a00c-514e26584c12",
   "metadata": {},
   "source": [
    "# Résolution Lab 2 - Partie 1"
   ]
  },
  {
   "cell_type": "markdown",
   "id": "580f4b69-7244-4935-851e-701ac91632b0",
   "metadata": {},
   "source": [
    "## 1. Définition des fonctions importantes et détermination de la valeur de L"
   ]
  },
  {
   "cell_type": "markdown",
   "id": "aaa58903-2963-43da-8eee-c331d7a5994b",
   "metadata": {},
   "source": [
    "### 1.1 Les différentes matrices de tracé de rayons"
   ]
  },
  {
   "cell_type": "code",
   "execution_count": 2,
   "id": "0f35ecf0-7272-4f1d-b619-392a4be22354",
   "metadata": {},
   "outputs": [],
   "source": [
    "def Mlens(f):\n",
    "    '''\n",
    "        Retourne la matrice de tracé de rayon pour une lentille \n",
    "        mince ayant une longueur focale f\n",
    "    '''\n",
    "    M = np.array([[1, 0],\n",
    "                  [-1/f, 1]])\n",
    "    return M\n",
    "\n",
    "def Mtrans(d):\n",
    "    '''\n",
    "        Retourne la matrice de tracé de rayon pour une translation\n",
    "        d'une distance d \n",
    "    '''\n",
    "    M = np.array([[1, d],\n",
    "                  [0, 1]])\n",
    "    return M"
   ]
  },
  {
   "cell_type": "markdown",
   "id": "81b488fa-7c65-4e3d-ab43-f403cdad9c20",
   "metadata": {},
   "source": [
    "### 1.2 Fonction pour créer la matrice du système optique \n",
    "\n",
    "Voici les 7 étapes du système de caméra: \n",
    "1. Translation de $L_{obj}$ ($x$ est notre inconue à trouver)\n",
    "2. Lentille mince convergente de longueur focale $f_1=150$ mm\n",
    "3. Translation de $L_2$\n",
    "4. Lentille divergente de longueur focale $f_2=-75$ mm\n",
    "5. Translation de $L_3$\n",
    "6. Lentille mince convergente de longueur focale $f_3=75$ mm\n",
    "7. Translation de $L_{im}$\n"
   ]
  },
  {
   "cell_type": "code",
   "execution_count": 67,
   "id": "fd5f13ab-171b-4316-86ab-3f5b0b1dc7cb",
   "metadata": {},
   "outputs": [],
   "source": [
    "def system_matrix(s1, s2, s3, f1=150e-3, f2=-75e-3, f3=75e-3, Lobj=1): # [m]\n",
    "    '''\n",
    "        Retourne la matrice de tracé de rayon 2x2 du système de microscopie confocale\n",
    "        Celle-ci contient l'inconnu 'x' comme variable symbolique\n",
    "    '''\n",
    "    #x = sp.symbols('x')\n",
    "    Mtot = Mtrans(s3)@Mlens(f3)@Mtrans(s2)@Mlens(f2)@Mtrans(s1)@Mlens(f1)@Mtrans(Lobj)\n",
    "    return Mtot"
   ]
  },
  {
   "cell_type": "markdown",
   "id": "50c1221c-a8d3-4523-86e8-70173c92fe35",
   "metadata": {
    "tags": []
   },
   "source": [
    "### 1.3 Test du cas extrême de L"
   ]
  },
  {
   "cell_type": "code",
   "execution_count": 68,
   "id": "02a7fdbb-87d5-46e3-9c80-f9240b40da9c",
   "metadata": {},
   "outputs": [
    {
     "name": "stdout",
     "output_type": "stream",
     "text": [
      "[-0.0152173913043478 - 0.063305303385048*I, -0.0152173913043478 + 0.063305303385048*I]\n"
     ]
    }
   ],
   "source": [
    "# Pour le cas extrême où L = 100mm, on a que s1 = 0mm. Donc, la lentille f1 est collée à la lentille f2.\n",
    "s1 = 0 # [m]\n",
    "L = 100e-3 # [m]\n",
    "s2 = sp.symbols('s2')\n",
    "s3 = L-s1-s2\n",
    "# on trouve la matrice de tracé de rayon pour le plan image en orange\n",
    "Msys = system_matrix(s1, s2, s3)\n",
    "# On est dans le cas où le rayon incident et le rayon transmis convergent chancun en un point.\n",
    "# On est donc dans le cas où le coefficient B de la matrice [[A B], [C,D]] vaut 0.\n",
    "B = Msys[0, 1] \n",
    "# On résoud le système formé de l'élément (0,1) de la matrice de tracé de rayon égal à 0.\n",
    "s2_solve = sp.solve(B)\n",
    "\n",
    "print(s2_solve)\n",
    "# On peut voir que les solutions pour s2 sont soit négatives ou complexes, ce qui sont des résultats\n",
    "# illogiques voyant que s2 est la distance entre la lentille f2 et la lentille f3. On peut expliquer\n",
    "# ce résultat par le fait qu'il semble ne pas exister de valeurs possibles pour s2 qui permettent\n",
    "# d'avoir B=0. Il faut donc augmenter la valeur de L pour permettre d'obtenir des solutions logiques."
   ]
  },
  {
   "cell_type": "markdown",
   "id": "ffc716b3",
   "metadata": {},
   "source": [
    "### 1.4 Augmentons la valeur de L pour obtenir des solutions physiques"
   ]
  },
  {
   "cell_type": "code",
   "execution_count": 71,
   "id": "1ca218e3",
   "metadata": {},
   "outputs": [
    {
     "data": {
      "image/png": "[encoded data removed]",
      "text/plain": [
       "<Figure size 432x288 with 1 Axes>"
      ]
     },
     "metadata": {
      "needs_background": "light"
     },
     "output_type": "display_data"
    }
   ],
   "source": [
    "# Augmentons la valeur de L.\n",
    "L = [200e-3, 190e-3, 180e-3, 170e-3, 150e-3] # [m]\n",
    "s1 = np.linspace(0, 75e-3, 50) # [m]\n",
    "s2 = sp.symbols('s2')\n",
    "\n",
    "for Lval in L:\n",
    "    slns = []\n",
    "    for s1_val in s1:\n",
    "        # On trouve la matrice de tracé de rayon \n",
    "        s3 = Lval-s1_val-s2\n",
    "        Msys = system_matrix(s1_val, s2, s3)\n",
    "        # On est dans le cas où le rayon incident et le rayon transmis convergent chancun en un point.\n",
    "        # On est donc dans le cas où le coefficient B de la matrice [[A B], [C,D]] vaut 0.\n",
    "        B = Msys[0, 1] \n",
    "        # print(type(B))\n",
    "        # print(sp.solve(B)[0])\n",
    "        slns.append(sp.solve(B)[-1]) # On garde que la solution positive\n",
    "        # print(slns)\n",
    "    slns = np.complex_(slns)\n",
    "    for i in range(len(slns)):\n",
    "        if  slns[i].imag != 0.0 or slns[i].real<0:\n",
    "            slns[i] = 0 \n",
    "    slns = slns.real\n",
    "    plt.plot(s1*1e3, slns*1e3, label=f'L={Lval}')\n",
    "\n",
    "plt.legend()\n",
    "plt.xlabel(\"s1 (en mm)\")\n",
    "plt.ylabel(\"s2 (en mm)\")\n",
    "plt.grid()"
   ]
  },
  {
   "cell_type": "markdown",
   "id": "3b327fd6",
   "metadata": {},
   "source": [
    "Allons avec L=190mm, car elle semble être la valeur la plus petite de $L$ qui fait que $s2$ est positif et réel pour les valeurs de $s1$ considérées et des valeurs plus grandes aussi."
   ]
  },
  {
   "cell_type": "markdown",
   "id": "d7199230",
   "metadata": {},
   "source": [
    "# 2. Graphiques"
   ]
  },
  {
   "cell_type": "markdown",
   "id": "00b9cbc7-47b6-4ec1-ba76-540ed8003143",
   "metadata": {},
   "source": [
    "### 2.1 Graphique 1: Grossissement vs position de la lentille L2 ."
   ]
  },
  {
   "cell_type": "code",
   "execution_count": 76,
   "id": "d3f5f2c0",
   "metadata": {},
   "outputs": [
    {
     "data": {
      "image/png": "[encoded data removed]",
      "text/plain": [
       "<Figure size 432x288 with 1 Axes>"
      ]
     },
     "metadata": {
      "needs_background": "light"
     },
     "output_type": "display_data"
    }
   ],
   "source": [
    "L = 190e-3 # [m]\n",
    "s1 = np.linspace(0, 75e-3, 50) # [m]\n",
    "s2 = sp.symbols('s2')\n",
    "s2_slns = []\n",
    "g = []\n",
    "for s1_val in s1:\n",
    "    # On trouve la matrice de tracé de rayon \n",
    "    s3 = L-s1_val-s2\n",
    "    Msys = system_matrix(s1_val, s2, s3)\n",
    "    # On est dans le cas où le rayon incident et le rayon transmis convergent chancun en un point.\n",
    "    # On est donc dans le cas où le coefficient B de la matrice [[A B], [C,D]] vaut 0.\n",
    "    A = Msys[0, 0]\n",
    "    B = Msys[0, 1] \n",
    "    s2_solve = sp.solve(B)[-1]\n",
    "    s2_slns.append(s2_solve)\n",
    "    g.append(A.evalf(subs={'s2':s2_solve})) # On garde que la solution positive\n",
    "\n",
    "plt.plot(s2_slns, g)\n",
    "plt.xlabel(\"Position de la lentille 2 (s2, en mm)\")\n",
    "plt.ylabel(\"Grossissement (g, sans unité)\")\n",
    "plt.grid()\n",
    "# Le grossissement est négatif et il est plus petit que 1 en valeur absolue, ce qui \n",
    "# est exactement ce qu'on veut \n",
    "# Nic -> :)"
   ]
  },
  {
   "cell_type": "markdown",
   "id": "8179294a-07c9-45d5-8008-c9d060ec5d01",
   "metadata": {},
   "source": [
    "### 2.2 Graphique 2: Résolution vs position de la lentille L2\n",
    "\n",
    "De manière générale, la résolution est définie comme la distance minimale pour distinguer deux éléments de n'importe quoi. Ici, la résolution est définie comme la distance minimale entre deux points dans le plan objet qui de manière à ce que ces deux points soient imagés sur deux pixels différents dans le plan image.\n",
    "\n",
    "Le développement fait précédemment était fait en allant du plan objet au plan image. Si on voulait aller du plan image au plan objet, on pourrait refaire tout le développement ou on peut réaliser que c'est tout simplement le chemin inverse de ce qu'on vient juste de faire. On peut donc facilement déterminer la taille d'un pixel dans le plan objet en divisant la taille d'un pixel, soit $3,6 \\mu$ m $\\times$  $3,6 \\mu m$, par le grossissement trouvé précédemment pour chaque valeur de $s2$. \n",
    "\n"
   ]
  },
  {
   "cell_type": "code",
   "execution_count": 77,
   "id": "97c16d69",
   "metadata": {},
   "outputs": [
    {
     "data": {
      "image/png": "[encoded data removed]",
      "text/plain": [
       "<Figure size 432x288 with 1 Axes>"
      ]
     },
     "metadata": {
      "needs_background": "light"
     },
     "output_type": "display_data"
    }
   ],
   "source": [
    "taille_pixel = 3.6e-6\n",
    "res = []\n",
    "for element in g:\n",
    "    # J'ai pris la valeur absolue, car je ne vois pas\n",
    "    res.append(np.abs(taille_pixel/element)) \n",
    "plt.plot(s2_slns, res)\n",
    "plt.xlabel(\"Position de la lentille 2 (s2, en mm)\")\n",
    "plt.ylabel(\"Résolution (en $\\mu$m)\")\n",
    "plt.grid()"
   ]
  },
  {
   "cell_type": "markdown",
   "id": "20668a8c-5c92-4958-8eab-dcec7db1d237",
   "metadata": {},
   "source": [
    "### 2.3 Graphique 3: Profondeur de champ vs position de la lentille L2\n",
    "\n",
    "Même chose que pour le pré-lab 1, mais on utilise $d_{pixel}$ au lieu de $d_{steno}$"
   ]
  },
  {
   "cell_type": "code",
   "execution_count": 78,
   "id": "762d73f1",
   "metadata": {},
   "outputs": [],
   "source": [
    "# Calcul Retourne la position des plans images (orange et rose), qui se retrouvent\n",
    "# à droite de la lentille à droite\n",
    "f3 = 150e-3 # [m]  \n",
    "d=3.6e-6 # [m]\n",
    "D=25.4e-3 # [m]\n",
    "s3_orange = f3 - (d*f3)/(D-d) # Position du plan image en orange\n",
    "s3_rose = f3 + (d*f3)/(D-d) # Position du plan image en rose\n",
    "\n",
    "# Fonction pour calculer la profondeur de champ (PdC)\n",
    "def PdC(s1, L, s3_orange, s3_rose):\n",
    "    # on trouve la matrice de tracé de rayon pour le plan image en orange\n",
    "    s2 = sp.symbols('s2')\n",
    "    Msys = system_matrix(s1, s2, s3_orange)\n",
    "    # On est dans le cas où le rayon incident et le rayon transmis convergent chancun en un point.\n",
    "    # On est donc dans le cas où le coefficient B de la matrice [[A B], [C,D]] vaut 0.\n",
    "    B = Msys[0, 1] \n",
    "    # On résoud le système formé de l'élément (0,1) de la matrice de tracé de rayon égal à 0.\n",
    "    x1 = sp.solve(B)[0]\n",
    "\n",
    "    # On trouve la matrice de tracé de rayon pour le plan image en rose.\n",
    "    s2 = sp.symbols('s2')\n",
    "    Msys = system_matrix(f, L, s3_rose)\n",
    "    # Même chose que pour le plan image en orange.\n",
    "    B = Msys[0, 1]\n",
    "    # On résoud le système formé de l'élément (0,1) de la matrice de tracé de rayon égal à 0.\n",
    "    x2 = sp.solve(B)[0]\n",
    "    # On calcule la résolution axiale.\n",
    "    dof = np.abs(x2-x1)\n",
    "    return dof"
   ]
  },
  {
   "cell_type": "code",
   "execution_count": null,
   "id": "bacfcb9f",
   "metadata": {},
   "outputs": [],
   "source": [
    "L = 190e-3 # [m]\n",
    "s1 = np.linspace(0, 75e-3, 50) # [m]\n",
    "PdC_vals = []\n",
    "# Calcul de la profondeur de champ pour chaque valeur de s1\n",
    "for s1_val in s1:\n",
    "    PdC_vals.append(PdC(f, L, s3_orange, s3_rose))\n",
    "\n",
    "plt.plot(s2_slns, PdC_vals)\n",
    "plt.xlabel(\"Position de la lentille 2 (s2, en mm)\")\n",
    "plt.ylabel(\"Grossissement (g, sans unité)\")\n",
    "plt.grid()"
   ]
  },
  {
   "cell_type": "code",
   "execution_count": 10,
   "id": "69e2122a",
   "metadata": {},
   "outputs": [],
   "source": [
    "f = [25e-3,35e-3,45e-3,55e-3,75e-3]  # [m]\n",
    "pinhole_size = 75.0e-6 # [m]\n",
    "dofs = []\n",
    "L = [15e-3,25e-3,35e-3,45e-3] # [m]\n",
    "every_dofs = []\n",
    "for i in range(len(f)):\n",
    "    dofs = []\n",
    "    for j in range(len(L)):\n",
    "        # On calculate la résolution axiale\n",
    "        dof = compute_dof(f[i], L[j], pinhole_size)\n",
    "        # On ajoute la résolution axiale à une liste contenant les différentes résolutions axiales\n",
    "        dofs.append(dof)\n",
    "    # On ajoute les dofs pour une distance d à une liste storant les dofs pour les différents d\n",
    "    every_dofs.append(dofs)"
   ]
  },
  {
   "cell_type": "code",
   "execution_count": 11,
   "id": "dd0e53bb",
   "metadata": {},
   "outputs": [
    {
     "name": "stdout",
     "output_type": "stream",
     "text": [
      "[0.000266541538029637, 0.000266539921813594, 0.000266538536500951, 0.000266537382084542]\n"
     ]
    },
    {
     "data": {
      "image/png": "[encoded data removed]",
      "text/plain": [
       "<Figure size 432x288 with 1 Axes>"
      ]
     },
     "metadata": {
      "needs_background": "light"
     },
     "output_type": "display_data"
    }
   ],
   "source": [
    "plt.figure()\n",
    "for i in range(len(L)):\n",
    "    plt.plot(L, every_dofs[i], label=f'$f = ${f[i]} $m$')\n",
    "plt.xlabel('Séparation des lentilles L (m)')\n",
    "plt.ylabel('Résolution Axiale $\\delta_z$ (m)')\n",
    "plt.legend(loc='best')\n",
    "\n",
    "print(every_dofs[2])"
   ]
  }
 ],
 "metadata": {
  "kernelspec": {
   "display_name": "Python 3.9.12 ('base')",
   "language": "python",
   "name": "python3"
  },
  "language_info": {
   "codemirror_mode": {
    "name": "ipython",
    "version": 3
   },
   "file_extension": ".py",
   "mimetype": "text/x-python",
   "name": "python",
   "nbconvert_exporter": "python",
   "pygments_lexer": "ipython3",
   "version": "3.9.12"
  },
  "vscode": {
   "interpreter": {
    "hash": "3589135b0d096a825f7677bcb4cc0e24069d2fa761ee480062bc4c5e27da94f7"
   }
  }
 },
 "nbformat": 4,
 "nbformat_minor": 5
}
